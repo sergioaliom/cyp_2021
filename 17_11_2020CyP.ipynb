{
  "nbformat": 4,
  "nbformat_minor": 0,
  "metadata": {
    "colab": {
      "name": "17/11/2020CyP.ipynb",
      "provenance": [],
      "authorship_tag": "ABX9TyMtPg5Mr+J0pFfcWSjMcPrD",
      "include_colab_link": true
    },
    "kernelspec": {
      "name": "python3",
      "display_name": "Python 3"
    }
  },
  "cells": [
    {
      "cell_type": "markdown",
      "metadata": {
        "id": "view-in-github",
        "colab_type": "text"
      },
      "source": [
        "<a href=\"https://colab.research.google.com/github/sergioaliom/cyp_2021/blob/main/17_11_2020CyP.ipynb\" target=\"_parent\"><img src=\"https://colab.research.google.com/assets/colab-badge.svg\" alt=\"Open In Colab\"/></a>"
      ]
    },
    {
      "cell_type": "code",
      "metadata": {
        "colab": {
          "base_uri": "https://localhost:8080/"
        },
        "id": "VADtupO0R9qc",
        "outputId": "291349fc-fef2-4ae5-ea6e-9e05e9116733"
      },
      "source": [
        "edad = 15\n",
        "estatura = 1.67\n",
        "a = 10 \n",
        "b = 3\n",
        "\n",
        "c = 2 ** b + 2\n",
        "\n",
        "print (c)\n",
        "\n",
        "e = estatura * 2.0\n",
        "\n",
        "print ( e )\n",
        "\n",
        "f = a / b #En phyton se hace el calculo exacto\n",
        "print ( f )\n",
        "\n",
        "g = a // b\n",
        "print(\"g=\",g)\n",
        "\n",
        "h = a % b\n",
        "print (\"h=\", h)\n",
        "\n",
        "num = 10\n",
        "print(\"Es par la variable Num?\", (num % 2) ==0)"
      ],
      "execution_count": 9,
      "outputs": [
        {
          "output_type": "stream",
          "text": [
            "10\n",
            "3.34\n",
            "3.3333333333333335\n",
            "g= 3\n",
            "h= 1\n",
            "Es par la variable Num? True\n"
          ],
          "name": "stdout"
        }
      ]
    },
    {
      "cell_type": "code",
      "metadata": {
        "colab": {
          "base_uri": "https://localhost:8080/"
        },
        "id": "v-BVcqypW5Nu",
        "outputId": "71854193-7157-4727-8515-0d1f901753ac"
      },
      "source": [
        "ecuacion = 9 + 7 * 8 - 36 / 5 # 9 + 56 - 7.2 = 65 - 7.2 \n",
        "print (ecuacion)\n",
        "\n",
        "ecuacion = (9 + 7) * 8 - 36 / 5 # 128 - 7.2\n",
        "print (ecuacion)\n",
        "\n",
        "ecuacion = 9 + 7 * (8 - 36) / 5\n",
        "print (ecuacion)"
      ],
      "execution_count": 12,
      "outputs": [
        {
          "output_type": "stream",
          "text": [
            "57.8\n",
            "120.8\n",
            "-30.200000000000003\n"
          ],
          "name": "stdout"
        }
      ]
    },
    {
      "cell_type": "code",
      "metadata": {
        "colab": {
          "base_uri": "https://localhost:8080/"
        },
        "id": "bMS-VUmBb8dy",
        "outputId": "fb084356-3f4c-46d2-a38c-8457e328b0c6"
      },
      "source": [
        "#Operadores Logicos\n",
        "\n",
        "valor = ( 4 == 4)\n",
        "print (valor)\n",
        "\n",
        "x = 5\n",
        "y = 4\n",
        "\n",
        "valor = (x == y) #Son Iguales? FALSO\n",
        "print(valor)\n",
        "\n",
        "valor = ( x != y) # verdadero\n",
        "print(valor)\n",
        "\n",
        "valor = ( x < y ) #Falso\n",
        "print(valor)\n",
        "\n",
        "valor = (x > y)\n",
        "print(valor)\n",
        "\n",
        "y=5\n",
        "valor = ( x <= y ) #Es menor o igual que y true\n",
        "print(valor)\n",
        "\n",
        "y=5\n",
        "valor = ( x >= y ) #Es mayor o igual que y true\n",
        "print(valor)\n"
      ],
      "execution_count": 18,
      "outputs": [
        {
          "output_type": "stream",
          "text": [
            "True\n",
            "False\n",
            "True\n",
            "False\n",
            "True\n",
            "True\n",
            "True\n"
          ],
          "name": "stdout"
        }
      ]
    },
    {
      "cell_type": "code",
      "metadata": {
        "colab": {
          "base_uri": "https://localhost:8080/"
        },
        "id": "nHbOodexfcff",
        "outputId": "4d881cb4-a80b-420f-8f93-cc8ccba0bdea"
      },
      "source": [
        " costo_chetoos = 7.0\n",
        " tienda_abierta = True\n",
        " capital_bolsa = 10.0\n",
        "\n",
        " se_compra = ( costo_chetoos < capital_bolsa ) and (tienda_abierta == True)\n",
        " print(se_compra)\n"
      ],
      "execution_count": 22,
      "outputs": [
        {
          "output_type": "stream",
          "text": [
            "True\n"
          ],
          "name": "stdout"
        }
      ]
    }
  ]
}