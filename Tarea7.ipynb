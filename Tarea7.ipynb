{
  "nbformat": 4,
  "nbformat_minor": 0,
  "metadata": {
    "colab": {
      "name": "Tarea7.ipynb",
      "provenance": [],
      "authorship_tag": "ABX9TyMwS/hghYX1zRLBEfLKxvoH",
      "include_colab_link": true
    },
    "kernelspec": {
      "name": "python3",
      "display_name": "Python 3"
    }
  },
  "cells": [
    {
      "cell_type": "markdown",
      "metadata": {
        "id": "view-in-github",
        "colab_type": "text"
      },
      "source": [
        "<a href=\"https://colab.research.google.com/github/sergioaliom/cyp_2021/blob/main/Tarea7.ipynb\" target=\"_parent\"><img src=\"https://colab.research.google.com/assets/colab-badge.svg\" alt=\"Open In Colab\"/></a>"
      ]
    },
    {
      "cell_type": "code",
      "metadata": {
        "colab": {
          "base_uri": "https://localhost:8080/"
        },
        "id": "L9aDwMqGEsJ3",
        "outputId": "d7fc0b47-7dd6-4cae-bd15-f780f435061a"
      },
      "source": [
        "TOTAL = int(input(\"Cuantos paises seran?: \"))\r\n",
        "NORTE = 0 \r\n",
        "SUR = 0\r\n",
        "CENTRO = 0\r\n",
        "AUX = 0\r\n",
        "AUX2 = 0 \r\n",
        "\r\n",
        "while True:\r\n",
        "  NORTE = int(input(\"Cuantos paises seran de Norteamerica?: \"))\r\n",
        "  CENTRO = int(input(\"Cuantos paises seran de Centroamerica?: \"))\r\n",
        "  SUR = int(input(\"Cuantos paises seran de Sudamerica?\"))\r\n",
        "  AUX = NORTE + SUR + CENTRO \r\n",
        "\r\n",
        "  if AUX == TOTAL:\r\n",
        "    break;\r\n",
        "  elif aux < TOTAL:\r\n",
        "    print(\"El numero de paises ingresado es menor a la total. \")\r\n",
        "\r\n",
        "tpa = [\"Norteamerica\", \"Centroamerica\", \"Sudamerica\"]\r\n",
        "aux = 0\r\n",
        "qnorte = [str(0) for x in range(NORTE)]\r\n",
        "qcentro = [str(0) for x in range(CENTRO)]\r\n",
        "qsur = [str(0) for x in range(SUR)]\r\n",
        "qtotal = [str(0) for x in range(TOTAL)]\r\n",
        "\r\n",
        "for i in range(TOTAL):\r\n",
        "  qtotal[i] = str(input(f\"Ingresa el nombre del pais n{aux+1} para la region de {tpa[AUX2]}: \"))\r\n",
        "  AUX += 1\r\n",
        "  if AUX2 == 0: \r\n",
        "    if AUX >= NORTE:\r\n",
        "      AUX = 0\r\n",
        "      AUX2 = 1\r\n",
        "    qnorte[AUX] = qtotal[i]\r\n",
        "  elif AUX2 == 1:\r\n",
        "    if AUX >= CENTRO:\r\n",
        "      AUX = 0\r\n",
        "      AUX2 = 2\r\n",
        "    qcentro[aux] = qtotal[i]\r\n",
        "  elif AUX2 == 2:\r\n",
        "    if AUX >= SUR:\r\n",
        "      AUX = 0 \r\n",
        "    qsur[AUX] = qtotal[i]\r\n",
        "\r\n",
        "print(f\"Norteamerica: {sorted(qnorte)}\")\r\n",
        "print(f\"Centroamerica: {sorted(qcentro)}\")\r\n",
        "print(f\"Sudamerica: {sorted(qsur)}\")\r\n",
        "print(f\"America: {sorted(qtotal)}\")\r\n",
        "\r\n",
        "\r\n"
      ],
      "execution_count": 33,
      "outputs": [
        {
          "output_type": "stream",
          "text": [
            "Cuantos paises seran?: 3\n",
            "Cuantos paises seran de Norteamerica?: 1\n",
            "Cuantos paises seran de Centroamerica?: 1\n",
            "Cuantos paises seran de Sudamerica?1\n",
            "Ingresa el nombre del pais n1 para la region de Norteamerica: USA\n",
            "Ingresa el nombre del pais n1 para la region de Centroamerica: MEXICO\n",
            "Ingresa el nombre del pais n1 para la region de Sudamerica: ARGENTINA\n",
            "Norteamerica: ['USA']\n",
            "Centroamerica: ['MEXICO']\n",
            "Sudamerica: ['ARGENTINA']\n",
            "America: ['ARGENTINA', 'MEXICO', 'USA']\n"
          ],
          "name": "stdout"
        }
      ]
    }
  ]
}