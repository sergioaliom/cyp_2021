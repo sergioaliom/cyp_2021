{
  "nbformat": 4,
  "nbformat_minor": 0,
  "metadata": {
    "colab": {
      "name": "5/01/2021_CyP.ipynb",
      "provenance": [],
      "authorship_tag": "ABX9TyMzBLOL3xAxzzjXm7wI+o38",
      "include_colab_link": true
    },
    "kernelspec": {
      "name": "python3",
      "display_name": "Python 3"
    }
  },
  "cells": [
    {
      "cell_type": "markdown",
      "metadata": {
        "id": "view-in-github",
        "colab_type": "text"
      },
      "source": [
        "<a href=\"https://colab.research.google.com/github/sergioaliom/cyp_2021/blob/main/5_01_2021_CyP.ipynb\" target=\"_parent\"><img src=\"https://colab.research.google.com/assets/colab-badge.svg\" alt=\"Open In Colab\"/></a>"
      ]
    },
    {
      "cell_type": "code",
      "metadata": {
        "colab": {
          "base_uri": "https://localhost:8080/"
        },
        "id": "S_QR9iK0i-zf",
        "outputId": "bebcb440-f03b-41c8-c866-d9985e6e4633"
      },
      "source": [
        "sueldos = [0.0 for x in range(7)]\r\n",
        "print(sueldos)\r\n",
        "sueldos[0] = 12.3\r\n",
        "sueldos[1] = 12.3\r\n",
        "sueldos[2] = 12.3\r\n",
        "sueldos[3] = 12.3\r\n",
        "sueldos[4] = 12.3\r\n",
        "sueldos[5] = 122.3\r\n",
        "sueldos[6] = 1.3\r\n",
        "print(sueldos)\r\n"
      ],
      "execution_count": 5,
      "outputs": [
        {
          "output_type": "stream",
          "text": [
            "[0.0, 0.0, 0.0, 0.0, 0.0, 0.0, 0.0]\n",
            "[12.3, 12.3, 12.3, 12.3, 12.3, 122.3, 1.3]\n"
          ],
          "name": "stdout"
        }
      ]
    },
    {
      "cell_type": "code",
      "metadata": {
        "colab": {
          "base_uri": "https://localhost:8080/"
        },
        "id": "qBwBzm_pm988",
        "outputId": "46e2694c-94de-4d6c-8314-db7baf65d12d"
      },
      "source": [
        "sueldo = [float(x) for x in range(7)]\r\n",
        "for i in range(0, 7):\r\n",
        "  sueldo[i] = float(i)+1.0\r\n",
        "print(sueldo)"
      ],
      "execution_count": 10,
      "outputs": [
        {
          "output_type": "stream",
          "text": [
            "[1.0, 2.0, 3.0, 4.0, 5.0, 6.0, 7.0]\n"
          ],
          "name": "stdout"
        }
      ]
    },
    {
      "cell_type": "code",
      "metadata": {
        "colab": {
          "base_uri": "https://localhost:8080/"
        },
        "id": "t_tZq9JfoMSS",
        "outputId": "e8856662-26c2-432e-c820-081bb96801aa"
      },
      "source": [
        "for i in range(7):\r\n",
        "  print(f\"El trabajador gana {sueldo[i]}\")"
      ],
      "execution_count": 17,
      "outputs": [
        {
          "output_type": "stream",
          "text": [
            "El trabajador gana 1.0\n",
            "El trabajador gana 2.0\n",
            "El trabajador gana 3.0\n",
            "El trabajador gana 4.0\n",
            "El trabajador gana 5.0\n",
            "El trabajador gana 6.0\n",
            "El trabajador gana 7.0\n"
          ],
          "name": "stdout"
        }
      ]
    },
    {
      "cell_type": "code",
      "metadata": {
        "colab": {
          "base_uri": "https://localhost:8080/"
        },
        "id": "rDRIPY5PoxsJ",
        "outputId": "26646c41-4c0f-4ab9-de1f-9ac47518fbd6"
      },
      "source": [
        "MAXIMO = 7 \r\n",
        "sueldos =[ 0.0 for x in range (MAXIMO) ]\r\n",
        "suma = 0.0\r\n",
        "promedio = 0.0\r\n",
        "\r\n",
        "for i in range(MAXIMO):\r\n",
        "  sueldos[i] = float(input(\"Dame tu sueldo: \"))\r\n",
        "\r\n",
        "for i in range(MAXIMO):\r\n",
        "  print(f\"Trabajador {i+1} gana: {sueldos[i]}\")\r\n",
        "\r\n",
        "for i in range(MAXIMO):\r\n",
        "    suma = suma + sueldos[i]\r\n",
        "  \r\n",
        "promedio = suma / 7\r\n",
        "\r\n",
        "print(f\"El promedio de sueldo es {promedio}\")\r\n",
        "\r\n",
        "for i in range (MAXIMO):\r\n",
        "  if sueldos[i] > promedio:\r\n",
        "    print(f\"El trabajador {i+1} tiene un sueldo mayor al promedio\")"
      ],
      "execution_count": 27,
      "outputs": [
        {
          "output_type": "stream",
          "text": [
            "Dame tu sueldo: 4\n",
            "Dame tu sueldo: 5\n",
            "Dame tu sueldo: 4\n",
            "Dame tu sueldo: 5\n",
            "Dame tu sueldo: 4\n",
            "Dame tu sueldo: 5\n",
            "Dame tu sueldo: 4\n",
            "Trabajador 1 gana: 4.0\n",
            "Trabajador 2 gana: 5.0\n",
            "Trabajador 3 gana: 4.0\n",
            "Trabajador 4 gana: 5.0\n",
            "Trabajador 5 gana: 4.0\n",
            "Trabajador 6 gana: 5.0\n",
            "Trabajador 7 gana: 4.0\n",
            "El promedio de sueldo es 4.428571428571429\n",
            "El trabajador 2 tiene un sueldo mayor al promedio\n",
            "El trabajador 4 tiene un sueldo mayor al promedio\n",
            "El trabajador 6 tiene un sueldo mayor al promedio\n"
          ],
          "name": "stdout"
        }
      ]
    },
    {
      "cell_type": "code",
      "metadata": {
        "colab": {
          "base_uri": "https://localhost:8080/"
        },
        "id": "SHBG9DR5ssVG",
        "outputId": "3223b396-8aac-49b5-95d7-bec810ad8623"
      },
      "source": [
        "maximo=5\r\n",
        "mayor=0\r\n",
        "menor=10000\r\n",
        "suma=0\r\n",
        "valor= [0.0 for x in range (maximo)]\r\n",
        "\r\n",
        "for i in range(maximo):\r\n",
        "  valor[i] = float(input(f\"Dame el valor: {i+1} \"))\r\n",
        "  suma=suma+valor[i]\r\n",
        "  if valor[i] > mayor:\r\n",
        "    mayor= valor[i]\r\n",
        "  elif valor[i] < menor:\r\n",
        "    menor = valor[i]\r\n",
        "\r\n",
        "\r\n",
        "promedio=suma/maximo\r\n",
        "print(f\"El valor maximo es {mayor}\")\r\n",
        "print(f\"El valor minimo es {menor}\")\r\n",
        "print(f\"El promedio es {promedio}\")\r\n",
        "\r\n"
      ],
      "execution_count": 41,
      "outputs": [
        {
          "output_type": "stream",
          "text": [
            "Dame el valor: 1 12\n",
            "Dame el valor: 2 11\n",
            "Dame el valor: 3 2\n",
            "Dame el valor: 4 1\n",
            "Dame el valor: 5 5\n",
            "El valor maximo es 12.0\n",
            "El valor minimo es 1.0\n",
            "El promedio es 6.2\n"
          ],
          "name": "stdout"
        }
      ]
    },
    {
      "cell_type": "code",
      "metadata": {
        "colab": {
          "base_uri": "https://localhost:8080/"
        },
        "id": "iyg0VPuIvorA",
        "outputId": "05a69170-f992-4bfd-d9e6-14a1ae4fa23e"
      },
      "source": [
        "#4.1\r\n",
        "\r\n",
        "N = int(input(\"Ingrese el numero de elementos del arreglo: \"))\r\n",
        "VEC = []\r\n",
        "if 1 <= N and N <=500:\r\n",
        "  VEC = [0 for x in range(N)]\r\n",
        "  for I in range(N):\r\n",
        "    VEC[I]=int(input(\"Ingrese valor\" + str(I+1) + \":\"))\r\n",
        "  print(\"Lista de numero sin repeticiones: \")\r\n",
        "\r\n",
        "  I =0\r\n",
        "  while I<N:\r\n",
        "    print(VEC[I])\r\n",
        "    REPET = VEC[I]\r\n",
        "    while I < N and REPET == VEC[I]:\r\n",
        "      I = I +1\r\n",
        "    I = I + 1\r\n",
        "else: \r\n",
        "  print(\"EL numero de elementos del arreglo es incorrecto\") \r\n"
      ],
      "execution_count": 57,
      "outputs": [
        {
          "output_type": "stream",
          "text": [
            "Ingrese el numero de elementos del arreglo: 10\n",
            "Ingrese valor1:2\n",
            "Ingrese valor2:3\n",
            "Ingrese valor3:3\n",
            "Ingrese valor4:3\n",
            "Ingrese valor5:10\n",
            "Ingrese valor6:20\n",
            "Ingrese valor7:20\n",
            "Ingrese valor8:20\n",
            "Ingrese valor9:40\n",
            "Ingrese valor10:43\n",
            "Lista de numero sin repeticiones: \n",
            "2\n",
            "3\n",
            "20\n",
            "43\n"
          ],
          "name": "stdout"
        }
      ]
    }
  ]
}