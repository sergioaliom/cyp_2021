{
  "nbformat": 4,
  "nbformat_minor": 0,
  "metadata": {
    "colab": {
      "name": "07/01/2021.ipynb",
      "provenance": [],
      "authorship_tag": "ABX9TyOP2+BTUkuGQk9QldRClmtY",
      "include_colab_link": true
    },
    "kernelspec": {
      "name": "python3",
      "display_name": "Python 3"
    }
  },
  "cells": [
    {
      "cell_type": "markdown",
      "metadata": {
        "id": "view-in-github",
        "colab_type": "text"
      },
      "source": [
        "<a href=\"https://colab.research.google.com/github/sergioaliom/cyp_2021/blob/main/07_01_2021.ipynb\" target=\"_parent\"><img src=\"https://colab.research.google.com/assets/colab-badge.svg\" alt=\"Open In Colab\"/></a>"
      ]
    },
    {
      "cell_type": "code",
      "metadata": {
        "colab": {
          "base_uri": "https://localhost:8080/"
        },
        "id": "NZ52Yxu44df5",
        "outputId": "304092de-5842-4664-da2b-3bc685a7ff52"
      },
      "source": [
        "# problema 4.1\r\n",
        "N = int(input(\"Ingrese el numero de elementos del arreglo:\"))\r\n",
        "\r\n",
        "if 1 <= N and N <=500:\r\n",
        "    VEC = [0 for x in range(N)] \r\n",
        "    print(VEC)\r\n",
        "    for I in range(N):\r\n",
        "        VEC[I]=int(input(\"Ingrese valor \" + str(I +1) + \":\"))\r\n",
        "    print(\"Lista de nuemeros sin repeticiones:\")\r\n",
        "    I=0\r\n",
        "    while I < N :\r\n",
        "        print(VEC[I])\r\n",
        "        REPET = VEC[I]\r\n",
        "        while I < N and I != N-1 and REPET == VEC[I+1]  :\r\n",
        "            #print(\"incementa I\", I)\r\n",
        "            I = I + 1   \r\n",
        "        I=I+1    \r\n",
        "else:\r\n",
        "  print(\"El número de elementos del arreglo es incorrecto\")"
      ],
      "execution_count": 2,
      "outputs": [
        {
          "output_type": "stream",
          "text": [
            "Ingrese el numerro de elementos del arreglo:1\n",
            "[0]\n",
            "Ingrese valor 1:1\n",
            "Lista de nuemeros sin repeticiones:\n",
            "1\n"
          ],
          "name": "stdout"
        }
      ]
    },
    {
      "cell_type": "code",
      "metadata": {
        "colab": {
          "base_uri": "https://localhost:8080/"
        },
        "id": "DiEDnIBKBB5N",
        "outputId": "2f684f9a-539d-4cae-cb3c-3577408ba0ae"
      },
      "source": [
        "REN = 3\r\n",
        "COL = 5\r\n",
        "VEC = [ [0 for x in range(COL)] for x in range(REN)]\r\n",
        "print(VEC)\r\n",
        "VEC[1][2]=15\r\n",
        "print(VEC)\r\n",
        "\r\n",
        "print(\"Automatizar el recorrido del arreglo\")\r\n",
        "for i in range(REN):\r\n",
        "  for j in range(COL):\r\n",
        "    print(f\"{i},{j} = {VEC[i][j]}\")"
      ],
      "execution_count": 9,
      "outputs": [
        {
          "output_type": "stream",
          "text": [
            "[[0, 0, 0, 0, 0], [0, 0, 0, 0, 0], [0, 0, 0, 0, 0]]\n",
            "[[0, 0, 0, 0, 0], [0, 0, 15, 0, 0], [0, 0, 0, 0, 0]]\n",
            "Automatizar el recorrido del arreglo\n",
            "0,0 = 0\n",
            "0,1 = 0\n",
            "0,2 = 0\n",
            "0,3 = 0\n",
            "0,4 = 0\n",
            "1,0 = 0\n",
            "1,1 = 0\n",
            "1,2 = 15\n",
            "1,3 = 0\n",
            "1,4 = 0\n",
            "2,0 = 0\n",
            "2,1 = 0\n",
            "2,2 = 0\n",
            "2,3 = 0\n",
            "2,4 = 0\n"
          ],
          "name": "stdout"
        }
      ]
    },
    {
      "cell_type": "code",
      "metadata": {
        "colab": {
          "base_uri": "https://localhost:8080/"
        },
        "id": "INwke8bfHA76",
        "outputId": "c2ae3c5a-df71-4591-885c-01e7f7b3bd1f"
      },
      "source": [
        "ESTADOS = int(input(\"Cuantos estados son?: \"))\r\n",
        "LLUVIAS = [[0 for x in range(12)] for x in range(ESTADOS)]\r\n",
        "for i in range(ESTADOS):\r\n",
        "  for j in range(12):\r\n",
        "    mensaje = \"Dame el valor del estado\" + str(i+1)+ \"del mes\"  + str(j+1),\":\"\r\n",
        "    aux = int(input(mensaje))\r\n",
        "    LLUVIAS[i][j]= aux\r\n",
        "\r\n",
        "print(LLUVIAS)\r\n",
        "\r\n",
        "print(\"Promedio de las lluvias en los estados: \")\r\n",
        "suma = 0\r\n",
        "for i in range(ESTADOS):\r\n",
        "  suma = 0\r\n",
        "  for j in range(12):\r\n",
        "    suma = suma + LLUVIAS[i][j]\r\n",
        "  print(f\"El promedio de las lluvias en el estado {i+1} es {suma / 12}\")\r\n"
      ],
      "execution_count": 58,
      "outputs": [
        {
          "output_type": "stream",
          "text": [
            "Cuantos estados son?: 1\n",
            "Dame el valor del estado1del mes1,:50\n",
            "Dame el valor del estado1del mes2,:7\n",
            "Dame el valor del estado1del mes3,:12\n",
            "Dame el valor del estado1del mes4,:15\n",
            "Dame el valor del estado1del mes5,:22\n",
            "Dame el valor del estado1del mes6,:50\n",
            "Dame el valor del estado1del mes7,:85\n",
            "Dame el valor del estado1del mes8,:70\n",
            "Dame el valor del estado1del mes9,:65\n",
            "Dame el valor del estado1del mes10,:28\n",
            "Dame el valor del estado1del mes11,:35\n",
            "Dame el valor del estado1del mes12,:17\n",
            "[[50, 7, 12, 15, 22, 50, 85, 70, 65, 28, 35, 17]]\n",
            "Promedio de las lluvias en los estados: \n",
            "El promedio de las lluvias en el estado 1 es 38.0\n"
          ],
          "name": "stdout"
        }
      ]
    }
  ]
}