{
  "nbformat": 4,
  "nbformat_minor": 0,
  "metadata": {
    "colab": {
      "name": "19/11/2020_CyP",
      "provenance": [],
      "authorship_tag": "ABX9TyOY5TqGiEp9tJ1sWXVKsEXU",
      "include_colab_link": true
    },
    "kernelspec": {
      "name": "python3",
      "display_name": "Python 3"
    }
  },
  "cells": [
    {
      "cell_type": "markdown",
      "metadata": {
        "id": "view-in-github",
        "colab_type": "text"
      },
      "source": [
        "<a href=\"https://colab.research.google.com/github/sergioaliom/cyp_2021/blob/main/19_11_2020_CyP.ipynb\" target=\"_parent\"><img src=\"https://colab.research.google.com/assets/colab-badge.svg\" alt=\"Open In Colab\"/></a>"
      ]
    },
    {
      "cell_type": "code",
      "metadata": {
        "colab": {
          "base_uri": "https://localhost:8080/"
        },
        "id": "9YQJDONSnFKC",
        "outputId": "67af75ac-1c3f-4f54-c9c6-1ecc9b745c85"
      },
      "source": [
        "I = 0\n",
        "I = 0 + 1\n",
        "I = 0 + 1 \n",
        "print(f\"I = {I}\")\n",
        "J = 5 ** 2 / 3\n",
        "print(f\"J = {J}\")\n"
      ],
      "execution_count": 4,
      "outputs": [
        {
          "output_type": "stream",
          "text": [
            "I = 1\n",
            "J = 8.333333333333334\n"
          ],
          "name": "stdout"
        }
      ]
    },
    {
      "cell_type": "code",
      "metadata": {
        "colab": {
          "base_uri": "https://localhost:8080/"
        },
        "id": "wlcE02fxnIIl",
        "outputId": "d566ab3e-ab1b-4d5c-9bfa-f27734e4eddd"
      },
      "source": [
        "A = 0\n",
        "B = 0\n",
        "C = 0\n",
        "D = 0\n",
        "\n",
        "A = int (input(\"Dame un valor entero: \"))\n",
        "B= int (input(\"Dame un valor entero: \"))\n",
        "C = int (input(\"Dame un valor entero: \"))\n",
        "D = int (input(\"Dame un valor entero: \"))\n",
        "\n",
        "print(D)\n",
        "print(C)\n",
        "print(B)\n",
        "print(A)\n"
      ],
      "execution_count": 3,
      "outputs": [
        {
          "output_type": "stream",
          "text": [
            "Dame un valor entero: 10\n",
            "Dame un valor entero: 20\n",
            "Dame un valor entero: 30\n",
            "Dame un valor entero: 40\n",
            "40\n",
            "30\n",
            "20\n",
            "10\n"
          ],
          "name": "stdout"
        }
      ]
    },
    {
      "cell_type": "code",
      "metadata": {
        "colab": {
          "base_uri": "https://localhost:8080/"
        },
        "id": "70VeFvfypNny",
        "outputId": "5ffa5aca-31b8-46c7-f10f-401885fff788"
      },
      "source": [
        " #Ejemplo 1.7\n",
        " A = 0\n",
        " B = 0\n",
        " A = int(input(\"Dame otro entero:\"))\n",
        " B = int(input(\"Dame otro entero:\"))\n",
        " RES = (A + B)** 2 / 3 \n",
        " print(RES)"
      ],
      "execution_count": 9,
      "outputs": [
        {
          "output_type": "stream",
          "text": [
            "Dame otro entero:5\n",
            "Dame otro entero:6\n",
            "40.333333333333336\n"
          ],
          "name": "stdout"
        }
      ]
    },
    {
      "cell_type": "code",
      "metadata": {
        "colab": {
          "base_uri": "https://localhost:8080/"
        },
        "id": "WD-k-ZS1uGJA",
        "outputId": "62e2f54c-7503-4b0b-bdc5-cb6959fde3ba"
      },
      "source": [
        "#Ejemplo 1.8\n",
        "MAT = 0\n",
        "CAL1= 0\n",
        "CAL2= 0\n",
        "CAL3= 0\n",
        "CAL4= 0\n",
        "CAL5= 0\n",
        "\n",
        "MAT = int(input(\"Escribe tu matricula:11\"))\n",
        "CAL1 = float(input(\"Escribe tu primer calificación:\"))\n",
        "CAL2 = float(input(\"Escribe tu segunda calificación:\"))\n",
        "CAL3 = float(input(\"Escribe tu tercera calificación:\"))\n",
        "CAL4 = float(input(\"Escribe tu cuarta calificación:\"))\n",
        "CAL5 = float(input(\"Escribe tu quinta calificación:\"))\n",
        "PROM = (CAL1+CAL2+CAL3+CAL4+CAL5)/5\n",
        "print(\"Tu matricula es:\", MAT)\n",
        "print(\"Tu promedio es:\",PROM)"
      ],
      "execution_count": 14,
      "outputs": [
        {
          "output_type": "stream",
          "text": [
            "Escribe tu matricula:1252125\n",
            "Escribe tu primer califición:10\n",
            "Escribe tu segunda califición:10\n",
            "Escribe tu tercera califición:0\n",
            "Escribe tu cuarta califición:10\n",
            "Escribe tu quinta califición:10\n",
            "Tu matricula es: 1252125\n",
            "Tu promedio es: 8.0\n"
          ],
          "name": "stdout"
        }
      ]
    },
    {
      "cell_type": "code",
      "metadata": {
        "colab": {
          "base_uri": "https://localhost:8080/"
        },
        "id": "kDAY-J0Jxx00",
        "outputId": "dd2a2a85-6dd5-4258-c6e0-473a1466005b"
      },
      "source": [
        "#1.9\n",
        "NUM = 0\n",
        "CUA = 0\n",
        "CUB = 0\n",
        "\n",
        "NUM = int(input(\"Dame un numero: \"))\n",
        "\n",
        "CUA = NUM ** 2\n",
        "CUB = NUM ** 3\n",
        "\n",
        "print(\"El cuadrado de \", NUM, \" es \", CUA, \" y su cubo es \", CUB)"
      ],
      "execution_count": 30,
      "outputs": [
        {
          "output_type": "stream",
          "text": [
            "Dame un numero: 10\n",
            "El cuadrado de  10  es  100  y su cubo es  1000\n"
          ],
          "name": "stdout"
        }
      ]
    },
    {
      "cell_type": "code",
      "metadata": {
        "colab": {
          "base_uri": "https://localhost:8080/"
        },
        "id": "qOLV2hGj0EdB",
        "outputId": "dccb299f-f066-4f73-f34b-f4e530f14b1a"
      },
      "source": [
        "#1.10\n",
        "BASE = 0\n",
        "ALTU = 0\n",
        "SUP = 0\n",
        "PER = 0\n",
        "BASE = int(input (\"Dame la base de tu triangulo:\"))\n",
        "ALTU = int(input (\"Dame la altura de tu triangulo:\"))\n",
        "SUP = BASE * ALTU\n",
        "PER = (BASE + ALTU) * 2\n",
        "print(\"La superficie de tu triangulo es:\", SUP, \"y su perimetro es:\", PER)"
      ],
      "execution_count": 29,
      "outputs": [
        {
          "output_type": "stream",
          "text": [
            "Dame la base de tu triangulo:2\n",
            "Dame la altura de tu triangulo:3\n",
            "La superficie de tu triangulo es: 6 y su perimetro es: 10\n"
          ],
          "name": "stdout"
        }
      ]
    }
  ]
}