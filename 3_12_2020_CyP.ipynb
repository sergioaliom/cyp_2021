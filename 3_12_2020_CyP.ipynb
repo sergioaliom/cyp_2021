{
  "nbformat": 4,
  "nbformat_minor": 0,
  "metadata": {
    "colab": {
      "name": "3/12/2020_CyP.ipynb",
      "provenance": [],
      "authorship_tag": "ABX9TyPJcXbo2ptS/4r2X5Y/XQvz",
      "include_colab_link": true
    },
    "kernelspec": {
      "name": "python3",
      "display_name": "Python 3"
    }
  },
  "cells": [
    {
      "cell_type": "markdown",
      "metadata": {
        "id": "view-in-github",
        "colab_type": "text"
      },
      "source": [
        "<a href=\"https://colab.research.google.com/github/sergioaliom/cyp_2021/blob/main/3_12_2020_CyP.ipynb\" target=\"_parent\"><img src=\"https://colab.research.google.com/assets/colab-badge.svg\" alt=\"Open In Colab\"/></a>"
      ]
    },
    {
      "cell_type": "code",
      "metadata": {
        "colab": {
          "base_uri": "https://localhost:8080/"
        },
        "id": "OMexlyXQl1bo",
        "outputId": "011b9263-0ef7-43d2-dd6a-448966efc767"
      },
      "source": [
        "for i in [1,2,3,5]:\n",
        "  print(f\"El elemento: {i}\")\n"
      ],
      "execution_count": 5,
      "outputs": [
        {
          "output_type": "stream",
          "text": [
            "El elemento: 1\n",
            "El elemento: 2\n",
            "El elemento: 3\n",
            "El elemento: 5\n"
          ],
          "name": "stdout"
        }
      ]
    },
    {
      "cell_type": "code",
      "metadata": {
        "colab": {
          "base_uri": "https://localhost:8080/"
        },
        "id": "KUxA-du0nP9w",
        "outputId": "f8adcb41-b29d-4ab3-932f-578c8feee89c"
      },
      "source": [
        "coleccion=[1,2,3,4,5]\n",
        "for i in coleccion:\n",
        "  print(f\"El elemento: {i}\")"
      ],
      "execution_count": 4,
      "outputs": [
        {
          "output_type": "stream",
          "text": [
            "El elemento: 1\n",
            "El elemento: 2\n",
            "El elemento: 3\n",
            "El elemento: 4\n",
            "El elemento: 5\n"
          ],
          "name": "stdout"
        }
      ]
    },
    {
      "cell_type": "code",
      "metadata": {
        "colab": {
          "base_uri": "https://localhost:8080/"
        },
        "id": "8eHN3SoEn1OZ",
        "outputId": "bfae8fbb-b53a-49c3-c40c-91ea64f0e317"
      },
      "source": [
        "coleccion={\"Mario\":20, \"Mariana\":20, \"Jessica\":14, \"Fernanda\":18}\n",
        "for i in coleccion:\n",
        "  print(f\"Elemento: {i} \" )\n"
      ],
      "execution_count": 7,
      "outputs": [
        {
          "output_type": "stream",
          "text": [
            "Elemento: Mario \n",
            "Elemento: Mariana \n",
            "Elemento: Jessica \n",
            "Elemento: Fernanda \n"
          ],
          "name": "stdout"
        }
      ]
    },
    {
      "cell_type": "code",
      "metadata": {
        "colab": {
          "base_uri": "https://localhost:8080/"
        },
        "id": "K7S5yOAsowal",
        "outputId": "9799b245-d1ea-4821-c327-1bc07db20689"
      },
      "source": [
        "coleccion={\"Mario\":20, \"Mariana\":20, \"Jessica\":14, \"Fernanda\":18}\n",
        "for i in coleccion:\n",
        "  print(f\"{coleccion[i]}\" )"
      ],
      "execution_count": 8,
      "outputs": [
        {
          "output_type": "stream",
          "text": [
            "20\n",
            "20\n",
            "14\n",
            "18\n"
          ],
          "name": "stdout"
        }
      ]
    },
    {
      "cell_type": "code",
      "metadata": {
        "colab": {
          "base_uri": "https://localhost:8080/"
        },
        "id": "qOoDu2OdpsaR",
        "outputId": "94a82581-bd43-4b5f-b2bc-cb961c9a96b3"
      },
      "source": [
        "coleccion={\"Mario\":20, \"Mariana\":20, \"Jessica\":14, \"Fernanda\":18}\n",
        "for i in coleccion:\n",
        "  print(f\"Elemento: {i} {coleccion[i]}\" )"
      ],
      "execution_count": 10,
      "outputs": [
        {
          "output_type": "stream",
          "text": [
            "Elemento: Mario 20\n",
            "Elemento: Mariana 20\n",
            "Elemento: Jessica 14\n",
            "Elemento: Fernanda 18\n"
          ],
          "name": "stdout"
        }
      ]
    },
    {
      "cell_type": "code",
      "metadata": {
        "colab": {
          "base_uri": "https://localhost:8080/"
        },
        "id": "2cfHG385rW06",
        "outputId": "b9062d81-fd9f-42e9-bb1e-67e3fda927ad"
      },
      "source": [
        "coleccion={\"Mario\":20, \"Mariana\":20, \"Jessica\":14, \"Fernanda\":18}\n",
        "for clave, valor in coleccion.items():\n",
        "  print(f\"{clave} {valor}\")"
      ],
      "execution_count": 11,
      "outputs": [
        {
          "output_type": "stream",
          "text": [
            "Mario 20\n",
            "Mariana 20\n",
            "Jessica 14\n",
            "Fernanda 18\n"
          ],
          "name": "stdout"
        }
      ]
    },
    {
      "cell_type": "code",
      "metadata": {
        "colab": {
          "base_uri": "https://localhost:8080/"
        },
        "id": "u5LOz1x5sKVT",
        "outputId": "1e342488-a259-48fb-a75c-2c32f2e18515"
      },
      "source": [
        "email=False\n",
        "for i in \"ariel@unam.mx\":\n",
        "  if(i == \"@\"):\n",
        "    email=True\n",
        "if email==True:\n",
        "  print(\"El email es correcto\")\n",
        "else:\n",
        "  print(\"El correo no es correcto\")\n"
      ],
      "execution_count": 16,
      "outputs": [
        {
          "output_type": "stream",
          "text": [
            "El email es correcto\n"
          ],
          "name": "stdout"
        }
      ]
    },
    {
      "cell_type": "code",
      "metadata": {
        "colab": {
          "base_uri": "https://localhost:8080/"
        },
        "id": "uyTqMDPutjtb",
        "outputId": "e8f3cc5a-958e-488c-da6b-c800979835e5"
      },
      "source": [
        "email=False\n",
        "miEmail=input(\"Ingresa tu correo electronico: \")\n",
        "\n",
        "for i in miEmail:\n",
        "  if(i == \"@\"):\n",
        "    email=True\n",
        "if email==True:\n",
        "  print(\"El email es correcto\")\n",
        "else:\n",
        "  print(\"El correo no es correcto\")"
      ],
      "execution_count": 21,
      "outputs": [
        {
          "output_type": "stream",
          "text": [
            "Ingresa tu correo electronico: af\n",
            "El correo no es correcto\n"
          ],
          "name": "stdout"
        }
      ]
    },
    {
      "cell_type": "code",
      "metadata": {
        "colab": {
          "base_uri": "https://localhost:8080/"
        },
        "id": "w_fuAvkLu_FT",
        "outputId": "81698cab-e764-49c6-e02d-7dad4acae0a8"
      },
      "source": [
        "for i in range (5):\n",
        "  print(i)"
      ],
      "execution_count": 23,
      "outputs": [
        {
          "output_type": "stream",
          "text": [
            "0\n",
            "1\n",
            "2\n",
            "3\n",
            "4\n"
          ],
          "name": "stdout"
        }
      ]
    },
    {
      "cell_type": "code",
      "metadata": {
        "colab": {
          "base_uri": "https://localhost:8080/"
        },
        "id": "_qOlqOXQwTQJ",
        "outputId": "ab415dca-862f-484b-cd5f-f24c56068912"
      },
      "source": [
        "for i in range (10):\n",
        "  print(f\"valor de la variable {i}\")"
      ],
      "execution_count": 26,
      "outputs": [
        {
          "output_type": "stream",
          "text": [
            "valor de la variable 0\n",
            "valor de la variable 1\n",
            "valor de la variable 2\n",
            "valor de la variable 3\n",
            "valor de la variable 4\n",
            "valor de la variable 5\n",
            "valor de la variable 6\n",
            "valor de la variable 7\n",
            "valor de la variable 8\n",
            "valor de la variable 9\n"
          ],
          "name": "stdout"
        }
      ]
    },
    {
      "cell_type": "code",
      "metadata": {
        "id": "q02RxHsyxWm4"
      },
      "source": [
        "i=1 \n",
        "while i <=10:\n",
        "  print(\"Ejecucion\" + str(i))"
      ],
      "execution_count": null,
      "outputs": []
    },
    {
      "cell_type": "code",
      "metadata": {
        "colab": {
          "base_uri": "https://localhost:8080/"
        },
        "id": "khuE2qRS0BbV",
        "outputId": "437e5d8f-092b-456f-9d11-cdc40ed7eeb3"
      },
      "source": [
        "i=1 \n",
        "while i <=10:\n",
        "  print(\"Ejecucion \"  + str(i))\n",
        "\n",
        "  i=i+1"
      ],
      "execution_count": 33,
      "outputs": [
        {
          "output_type": "stream",
          "text": [
            "Ejecucion 1\n",
            "Ejecucion 2\n",
            "Ejecucion 3\n",
            "Ejecucion 4\n",
            "Ejecucion 5\n",
            "Ejecucion 6\n",
            "Ejecucion 7\n",
            "Ejecucion 8\n",
            "Ejecucion 9\n",
            "Ejecucion 10\n"
          ],
          "name": "stdout"
        }
      ]
    },
    {
      "cell_type": "code",
      "metadata": {
        "colab": {
          "base_uri": "https://localhost:8080/"
        },
        "id": "jcUQFsa50whv",
        "outputId": "2cae80e0-eb55-4810-facd-e8ee31314dcd"
      },
      "source": [
        "edad = int(input(\"Introduce tu edad: \"))\n",
        "while edad<0:\n",
        "  print(\"Haz introducido una edad negativa, Intentalo de nuevo\")\n",
        "  edad=int(input(\"Introduce tu edad: \"))\n",
        "  print(\"Gracias por participar. Puedes pasar\")\n",
        "  print(\"Edad del Aspirante: \", str (edad))"
      ],
      "execution_count": 38,
      "outputs": [
        {
          "output_type": "stream",
          "text": [
            "Introduce tu edad: -9\n",
            "Haz introducido una edad negativa, Intentalo de nuevo\n",
            "Introduce tu edad: -4\n",
            "Gracias por participar. Puedes pasar\n",
            "Edad del Aspirante -4\n",
            "Haz introducido una edad negativa, Intentalo de nuevo\n",
            "Introduce tu edad: 8\n",
            "Gracias por participar. Puedes pasar\n",
            "Edad del Aspirante 8\n"
          ],
          "name": "stdout"
        }
      ]
    },
    {
      "cell_type": "code",
      "metadata": {
        "id": "sAYTGMKZ15FT"
      },
      "source": [
        "edad=int(input(\"Introduce tu edad:\"))\n",
        "while edad < 10 or edad >= 100:\n",
        "  print(\"has introducido una edad negativa, Intentalo de nuevo\")\n",
        "  edad=int(input(\"introduce tu edad\"))\n",
        "print(\"gracias por participar.Puede pasar\")  \n",
        "print(\"edad del aspirante:\"+str (edad))"
      ],
      "execution_count": null,
      "outputs": []
    }
  ]
}