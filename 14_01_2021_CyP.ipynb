{
  "nbformat": 4,
  "nbformat_minor": 0,
  "metadata": {
    "colab": {
      "name": "14/01/2021_CyP.ipynb",
      "provenance": [],
      "authorship_tag": "ABX9TyOy7+9G4nSK0z7H3f9oD8SU",
      "include_colab_link": true
    },
    "kernelspec": {
      "name": "python3",
      "display_name": "Python 3"
    }
  },
  "cells": [
    {
      "cell_type": "markdown",
      "metadata": {
        "id": "view-in-github",
        "colab_type": "text"
      },
      "source": [
        "<a href=\"https://colab.research.google.com/github/sergioaliom/cyp_2021/blob/main/14_01_2021_CyP.ipynb\" target=\"_parent\"><img src=\"https://colab.research.google.com/assets/colab-badge.svg\" alt=\"Open In Colab\"/></a>"
      ]
    },
    {
      "cell_type": "markdown",
      "metadata": {
        "id": "HeP3ulxZ5EXK"
      },
      "source": [
        "#Palabras reservadas de Phyton 3\r\n",
        "1 False\r\n",
        "1 None\r\n",
        "1 True\r\n",
        "1 and\r\n",
        "1 as\r\n",
        "1 assert\r\n",
        "1 break\r\n",
        "1 class\r\n",
        "1 continue\r\n",
        "1 def\r\n",
        "1 del\r\n",
        "1 elif\r\n",
        "1 else\r\n",
        "1 except\r\n",
        "1 finally\r\n",
        "1 for\r\n",
        "1 from\r\n",
        "1 global\r\n",
        "1 if\r\n",
        "1 import\r\n",
        "1 in\r\n",
        "1 is\r\n",
        "1 lambda\r\n",
        "1 nonlocal\r\n",
        "1 not\r\n",
        "1 or\r\n",
        "1 pass\r\n",
        "1 raise\r\n",
        "1 return\r\n",
        "1 try\r\n",
        "1 while\r\n",
        "1 with\r\n",
        "1 yield\r\n"
      ]
    },
    {
      "cell_type": "code",
      "metadata": {
        "colab": {
          "base_uri": "https://localhost:8080/"
        },
        "id": "VULorhV-5ZA-",
        "outputId": "43294407-6e1b-439e-f299-1a520ada5509"
      },
      "source": [
        "import keyword\r\n",
        "pr = keyword.kwlist\r\n",
        "print( len(pr))\r\n",
        "for palabra in pr:\r\n",
        "  print(\"1\",palabra)"
      ],
      "execution_count": 9,
      "outputs": [
        {
          "output_type": "stream",
          "text": [
            "33\n",
            "1 False\n",
            "1 None\n",
            "1 True\n",
            "1 and\n",
            "1 as\n",
            "1 assert\n",
            "1 break\n",
            "1 class\n",
            "1 continue\n",
            "1 def\n",
            "1 del\n",
            "1 elif\n",
            "1 else\n",
            "1 except\n",
            "1 finally\n",
            "1 for\n",
            "1 from\n",
            "1 global\n",
            "1 if\n",
            "1 import\n",
            "1 in\n",
            "1 is\n",
            "1 lambda\n",
            "1 nonlocal\n",
            "1 not\n",
            "1 or\n",
            "1 pass\n",
            "1 raise\n",
            "1 return\n",
            "1 try\n",
            "1 while\n",
            "1 with\n",
            "1 yield\n"
          ],
          "name": "stdout"
        }
      ]
    },
    {
      "cell_type": "markdown",
      "metadata": {
        "id": "wXLzcVlD6555"
      },
      "source": [
        "##Variable\r\n",
        "Es un espacio de memoria de la computadora para almacenar valores que cambian a lo largo de la ejecucion del programa. Este espacio de memoria esta referenciado por un identificador, el cual tiene ciertas reglas de nombrado\r\n",
        "- No puede iniciar con numero\r\n",
        "- No de ser igual a alguna de las palabras reservadas\r\n",
        "- Puede iniciar con _\r\n",
        "- Evitar nombres de variables largos \r\n",
        "- Evitar muy cortos, ejemplo: x,y,i,\r\n",
        "- Usar notacion snake_case "
      ]
    },
    {
      "cell_type": "code",
      "metadata": {
        "colab": {
          "base_uri": "https://localhost:8080/"
        },
        "id": "dgC2awhe7sYK",
        "outputId": "efc9bc69-9cf0-4469-d1e5-f7af9c012a3a"
      },
      "source": [
        "_2edad = 12\r\n",
        "print(_2edad)\r\n"
      ],
      "execution_count": 13,
      "outputs": [
        {
          "output_type": "stream",
          "text": [
            "12\n"
          ],
          "name": "stdout"
        }
      ]
    },
    {
      "cell_type": "code",
      "metadata": {
        "id": "SyJljUrt9Hgj"
      },
      "source": [
        "\"\"\"\r\n",
        "La notacion snacke case consta de formar el identificador de la variable separando las palabras del mismo \r\n",
        "un guion bajo.\r\n",
        "\r\n",
        "Se recomienda que los identificadores se escriban en minusculas para las variables\r\n",
        "y en mayusculas para las constantes\r\n",
        "\r\n",
        "Es decir si tenemos una variable para los dias de la semana, se escribiria asi:\r\n",
        "\r\n",
        "dias_de_la_semana = 7\r\n",
        "dias_mes = 31\r\n",
        "limite_maximo = 100\r\n",
        "\r\n",
        "\"\"\"\r\n",
        "\r\n"
      ],
      "execution_count": null,
      "outputs": []
    },
    {
      "cell_type": "markdown",
      "metadata": {
        "id": "8uVUd_zn98II"
      },
      "source": [
        "# Tipos de datos \r\n",
        "- Numericos \r\n",
        "  - int 4 bytes (1,2,3,1,2 etc)\r\n",
        "  - float (3.1415, 1.14)\r\n",
        "  - long 8 byte ( 1, 2 , 3)\r\n",
        "  - complex (3+2j, Raices Negativas)\r\n",
        "- Boolean True o False\r\n",
        "-String Cadenas de caracteres(\"1\", '2', \"\"\"3\"\"\")\r\n",
        "- Listas ([1,2,3,4]) , ([a,b,c,d])\r\n",
        "- Tuplas ((edad,23))\r\n",
        "- Conjuntos\r\n",
        "- Diccionarios({\"Nombre\":\"Juan\"})"
      ]
    },
    {
      "cell_type": "markdown",
      "metadata": {
        "id": "4orxsQ5hEH34"
      },
      "source": [
        "# Tipo de dato String\r\n",
        "\r\n",
        "Este tipo de dato permite almacenar cadenas de caracteres, como por ejemplo:\r\n",
        "```\r\n",
        "nombre = 'Jesus'\r\n",
        "lugar-nacimiento = \"Mexico D.F., Tacuba\"\r\n",
        "frase-favorita = \"\"\"\r\n",
        "El conocimiento \r\n",
        "me persigue,\r\n",
        "pero...\r\n",
        "yo soy mas rapido!!\r\n",
        ":)\r\n",
        "\"\"\"\r\n",
        "```"
      ]
    },
    {
      "cell_type": "code",
      "metadata": {
        "colab": {
          "base_uri": "https://localhost:8080/"
        },
        "id": "budxM4iWFFbG",
        "outputId": "e377dfbf-8363-4a1e-a82d-e4f7df1370c8"
      },
      "source": [
        "nombre = 'Jesus'\r\n",
        "lugar_nacimiento = \"Mexico D.F., Tacuba\"\r\n",
        "frase_favorita = \"\"\"\r\n",
        "El conocimiento \r\n",
        "me persigue,\r\n",
        "pero...\r\n",
        "yo soy mas rapido!!\r\n",
        ":)\r\n",
        "\"\"\"\r\n",
        "print(nombre)\r\n",
        "print(lugar_nacimiento)\r\n",
        "print(frase_favorita)\r\n"
      ],
      "execution_count": 17,
      "outputs": [
        {
          "output_type": "stream",
          "text": [
            "Jesus\n",
            "Mexico D.F., Tacuba\n",
            "\n",
            "El conocimiento \n",
            "me persigue,\n",
            "pero...\n",
            "yo soy mas rapido!!\n",
            ":)\n",
            "\n"
          ],
          "name": "stdout"
        }
      ]
    },
    {
      "cell_type": "markdown",
      "metadata": {
        "id": "yWaWs341FjTR"
      },
      "source": [
        "# Strings como arreglo\r\n",
        "Un string en python es almacenado como el tipo de dato (estructura de datos) arreglo.\r\n",
        "\r\n",
        "Por ejemplo la declaracion:\r\n",
        "\r\n",
        "```\r\n",
        "nombre = 'Jesus'\r\n",
        "```\r\n",
        "El elemento 'J' es almacenado en un arreglo en la posicion 0\r\n",
        "La e en la 1 y asi sucesivamente.\r\n",
        "\r\n",
        "### Selector\r\n",
        "La notacion para seleccionar un elemento del arreglo es:\r\n",
        "\r\n",
        "```\r\n",
        "[ 1 ]\r\n",
        "```\r\n",
        "Donde el valor interno debe ser un valor numerico entero."
      ]
    },
    {
      "cell_type": "code",
      "metadata": {
        "colab": {
          "base_uri": "https://localhost:8080/"
        },
        "id": "-Ckb7A3PGMBn",
        "outputId": "d6acd6ec-fcb1-4a52-b8f1-6531cc75a1a1"
      },
      "source": [
        "nombre = 'Jesus'\r\n",
        "print(nombre)\r\n",
        "print(nombre[0])\r\n",
        "print(nombre[3])"
      ],
      "execution_count": 20,
      "outputs": [
        {
          "output_type": "stream",
          "text": [
            "Jesus\n",
            "J\n",
            "u\n"
          ],
          "name": "stdout"
        }
      ]
    },
    {
      "cell_type": "markdown",
      "metadata": {
        "id": "8NsCvbh2HnTG"
      },
      "source": [
        "# Iterar sobre un String\r\n",
        "\r\n",
        "Se puede iterar sobre un string con un for de la manera siguiente\r\n",
        "\r\n",
        "``` \r\n",
        "for letra in range(len(nombre)):\r\n",
        "  print(letra)\r\n",
        "\r\n",
        "  ```\r\n"
      ]
    },
    {
      "cell_type": "code",
      "metadata": {
        "colab": {
          "base_uri": "https://localhost:8080/"
        },
        "id": "wIl9GdnEIXzL",
        "outputId": "6ca90878-402c-4afa-f4d7-c6ecd84adb53"
      },
      "source": [
        "for indice in range(len(nombre)):\r\n",
        "  print(indice, end= \" \")\r\n",
        "  print (nombre[indice])"
      ],
      "execution_count": 23,
      "outputs": [
        {
          "output_type": "stream",
          "text": [
            "0 J\n",
            "1 e\n",
            "2 s\n",
            "3 u\n",
            "4 s\n"
          ],
          "name": "stdout"
        }
      ]
    },
    {
      "cell_type": "markdown",
      "metadata": {
        "id": "n9ZdReOOJ91_"
      },
      "source": [
        "# Funcion range(inicio, stop, incremento)\r\n",
        "\r\n",
        "El inicio es opcional y por defecto tiene el valor 0\r\n",
        "El incremento tambien es opcional y por defecto tambien es 1\r\n",
        "\r\n"
      ]
    },
    {
      "cell_type": "code",
      "metadata": {
        "colab": {
          "base_uri": "https://localhost:8080/"
        },
        "id": "Jo_-70_wJ1v7",
        "outputId": "f6a8db44-0ce8-4c61-f37a-788f718fddf5"
      },
      "source": [
        "for indice in range (0,len(nombre),1):\r\n",
        "  print(nombre[indice])"
      ],
      "execution_count": 27,
      "outputs": [
        {
          "output_type": "stream",
          "text": [
            "J\n",
            "e\n",
            "s\n",
            "u\n",
            "s\n"
          ],
          "name": "stdout"
        }
      ]
    },
    {
      "cell_type": "code",
      "metadata": {
        "colab": {
          "base_uri": "https://localhost:8080/"
        },
        "id": "uxrBM2vtK4nK",
        "outputId": "1e5c589c-efa0-4825-ab4e-cd2639551e0d"
      },
      "source": [
        "for indice in range (4,-1,-1):\r\n",
        "  print(nombre[indice])"
      ],
      "execution_count": 31,
      "outputs": [
        {
          "output_type": "stream",
          "text": [
            "s\n",
            "u\n",
            "s\n",
            "e\n",
            "J\n"
          ],
          "name": "stdout"
        }
      ]
    },
    {
      "cell_type": "markdown",
      "metadata": {
        "id": "NoyEj-d6MXaY"
      },
      "source": [
        "# Strings e indezado negativo\r\n",
        "\r\n",
        "En python 3 se agrega una nueva caracteristica a los arreglos de las cadenas de caracteres, esta consta de la capacidad de indexar de forma negativa\r\n",
        "La logica es la siguiente.\r\n",
        "El ulrimo elemento se le considera como indice(ALTARNATIVO)-1, con lo cual se podria referenciar el final de la cadena sin la necesidad de saber el tamaño de la misma.\r\n",
        "\r\n",
        "```\r\n",
        "nombre = 'Jesus'\r\n",
        "```\r\n",
        "- Indice normal  0  1  2  3  4\r\n",
        "\r\n",
        "                 J  E  S  U  S\r\n",
        "\r\n",
        "- Indice alter. -5 -4 -3 -2 -1"
      ]
    },
    {
      "cell_type": "code",
      "metadata": {
        "colab": {
          "base_uri": "https://localhost:8080/"
        },
        "id": "or_j9zMSMzRq",
        "outputId": "15f126ec-6595-4f4f-ffe7-fca77ee285b6"
      },
      "source": [
        "nombre = \"Jesus\"\r\n",
        "print(nombre[4])\r\n",
        "print(nombre[-1])\r\n",
        "print(\"\")\r\n",
        "for indice_alter in range (-1, -6, -1):\r\n",
        "    print(nombre[indice_alter])"
      ],
      "execution_count": 33,
      "outputs": [
        {
          "output_type": "stream",
          "text": [
            "s\n",
            "s\n",
            "\n",
            "s\n",
            "u\n",
            "s\n",
            "e\n",
            "J\n"
          ],
          "name": "stdout"
        }
      ]
    },
    {
      "cell_type": "markdown",
      "metadata": {
        "id": "Rz5NC2C4P1v0"
      },
      "source": [
        "#Slicing de cadenas de caracteres.\r\n",
        "Esta caracteristica permite sacar secciones de una cadena con la siguiente sintaxis\r\n",
        "```\r\n",
        "[inicio : stop : incremento]\r\n",
        "```\r\n",
        "\r\n",
        "Donde inicie e incremento son opcionales y tambien soportan indexado alternativo, es decir con negativos"
      ]
    },
    {
      "cell_type": "code",
      "metadata": {
        "colab": {
          "base_uri": "https://localhost:8080/"
        },
        "id": "Q9WXriRFQgFE",
        "outputId": "7d74408d-4346-4594-b0db-547e14dd4c0b"
      },
      "source": [
        "facultad = \"Facultad de Estudios Superiores Aragon (La mejor)\"\r\n",
        "\r\n",
        "print(len(facultad))\r\n",
        "\r\n",
        "for indice in range (12, 20, 1):\r\n",
        "  print(facultad[indice], end=\"\")\r\n",
        "\r\n",
        "#Hacer esto mismo con la caracteristica slicing se logra asi:\r\n",
        "\r\n",
        "print(\"\\nCon slicing \")\r\n",
        "print(facultad[12:20:1])\r\n",
        "print(facultad[9:11:1])\r\n"
      ],
      "execution_count": 49,
      "outputs": [
        {
          "output_type": "stream",
          "text": [
            "49\n",
            "Estudios\n",
            "Con slicing \n",
            "Estudios\n",
            "de\n"
          ],
          "name": "stdout"
        }
      ]
    }
  ]
}