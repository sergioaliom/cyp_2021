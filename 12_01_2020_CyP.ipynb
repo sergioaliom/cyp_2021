{
  "nbformat": 4,
  "nbformat_minor": 0,
  "metadata": {
    "colab": {
      "name": "12/01/2020_CyP.ipynb",
      "provenance": [],
      "authorship_tag": "ABX9TyNSaM0pboRtH6d5L27BvNMD",
      "include_colab_link": true
    },
    "kernelspec": {
      "name": "python3",
      "display_name": "Python 3"
    }
  },
  "cells": [
    {
      "cell_type": "markdown",
      "metadata": {
        "id": "view-in-github",
        "colab_type": "text"
      },
      "source": [
        "<a href=\"https://colab.research.google.com/github/sergioaliom/cyp_2021/blob/main/12_01_2020_CyP.ipynb\" target=\"_parent\"><img src=\"https://colab.research.google.com/assets/colab-badge.svg\" alt=\"Open In Colab\"/></a>"
      ]
    },
    {
      "cell_type": "markdown",
      "metadata": {
        "id": "pThfU4jSpk3B"
      },
      "source": [
        "#INTRODUCCION A PYTHON\r\n",
        "\r\n",
        "- Creado en los 90's por Guido Van R.\r\n",
        "- En el 2000, Phyton mejora y tiene nuevas caracteristicas. \r\n",
        "- En el 2020 deja de ser la version oficialphyton 2.7 y solo se le dara soporte a Phyton 3 en adelante\r\n",
        "\r\n",
        "## Caracteristicas de Phyton\r\n",
        "1. Lenguaje de proposito general.\r\n",
        "2. Interpretado y no-compilado.\r\n",
        "3. Tipos de datos dinamico .(Numericos, cadena, booleanos)\r\n",
        "4. Multiplataforma \r\n",
        "5. Lenguaje multi-paradigma. (Imperativa, POO y funcional)\r\n",
        "6. Codigo es estructurado por identacion.\r\n",
        "\r\n",
        "``` \r\n",
        "if a > 10:\r\n",
        "  print(\"Hola\")\r\n",
        "print(\"Hola2\")\r\n",
        "\r\n",
        "``` \r\n",
        "\r\n",
        "## Principios Zen de Phyton\r\n",
        "\r\n",
        "Son las caracteristecas que guian el diseño del lenguaje de programacion Phyton.\r\n",
        "\r\n"
      ]
    },
    {
      "cell_type": "code",
      "metadata": {
        "colab": {
          "base_uri": "https://localhost:8080/"
        },
        "id": "b8y-ZOe2umGL",
        "outputId": "91ee0a97-49fb-42a6-de2c-d9584c7e6422"
      },
      "source": [
        "#Primer programa en Phyton 3\r\n",
        "\r\n",
        "nombre = \"Jose\"\r\n",
        "edad = 18\r\n",
        "print(\"Hola\", nombre , edad)"
      ],
      "execution_count": 2,
      "outputs": [
        {
          "output_type": "stream",
          "text": [
            "Hola Jose 18\n"
          ],
          "name": "stdout"
        }
      ]
    },
    {
      "cell_type": "markdown",
      "metadata": {
        "id": "FVObcV1Cvubk"
      },
      "source": [
        "# La funcion print()\r\n",
        "\r\n",
        "Es una de las funciones mas empleadas en aprogramacion y busca enviar datos a la salida estandar(monitor)\r\n",
        "\r\n",
        "###Formas de uso\r\n",
        "1. Con comas\r\n",
        "2. Con signos +\r\n",
        "3. .format()\r\n",
        "4. el operador f\" \r\n",
        "\r\n",
        " \r\n",
        " ##### Con comas \r\n",
        " Concatena los argumentos enviados a print y les agrega un espacio \r\n",
        "\r\n",
        " #### Con signos +\r\n",
        " Concatena los valores sin espacio y sin hacer conversion de tipos.\r\n",
        "\r\n",
        " #### Con la funcion format ()\r\n",
        " Permite darle formato a la salida de la impresion de variables. Emplea la funcion format de el tipo de dato String. \r\n",
        " ``` \r\n",
        " \" cadena a formatear\".format(v1,v2,vn) \r\n",
        " \r\n",
        " ``` \r\n",
        " Emplea como comodines para sustituir valores los signos {}.\r\n",
        "\r\n",
        "\r\n",
        "#### Con el operador\"f\"\r\n",
        "\r\n",
        "Es una variante de la forma anterior pero enmascarando la funcion format().\r\n",
        "\r\n",
        "```\r\n",
        "print(f\"{var1}{var2}{varn}\")\r\n",
        "```\r\n"
      ]
    },
    {
      "cell_type": "code",
      "metadata": {
        "colab": {
          "base_uri": "https://localhost:8080/"
        },
        "id": "OWt847kjwTKn",
        "outputId": "a6269ad3-be09-4f22-f4b6-bb1f7cd339fa"
      },
      "source": [
        "print(\"Hola\", nombre, edad)\r\n",
        "print(\"Hola \" + nombre + \" \" + str(edad) )\r\n",
        "# Nombre: Jose, con una edad de :18 años.\r\n",
        "print(\"Nombre:\",nombre, \"con una edad de: \", edad, \"años\")\r\n",
        "print(\"Nombre: \"+ nombre + \" con una edad de: \"+ str(edad)+ \" años\")\r\n",
        "#Con Format()\r\n",
        "print(\"Nombre: {} con una edad de: {} años.\".format(nombre,edad))\r\n",
        "#Con el operador f\r\n",
        "print(f\"Nombre: {nombre} con una edad de: {edad} años.\")"
      ],
      "execution_count": 16,
      "outputs": [
        {
          "output_type": "stream",
          "text": [
            "Hola Jose 18\n",
            "Hola Jose 18\n",
            "Nombre: Jose con una edad de:  18 años\n",
            "Nombre: Jose con una edad de: 18 años\n",
            "Nombre: Jose con una edad de: 18 años.\n",
            "Nombre: Jose con una edad de: 18 años.\n"
          ],
          "name": "stdout"
        }
      ]
    },
    {
      "cell_type": "markdown",
      "metadata": {
        "id": "12Pupfuk2HG5"
      },
      "source": [
        "#Funcion print() y los caracteres de escape.\r\n",
        "\r\n",
        "- \\n salto de linea\r\n",
        "- \\t tabulador\r\n",
        "- \\\\ imprimir la diagonal\r\n",
        "- \\' y \\\"\r\n",
        "- \\uxxxx\r\n",
        "- \\uxxxxxxxx\r\n",
        "``` \r\n",
        "\"\r\n",
        "``` "
      ]
    },
    {
      "cell_type": "code",
      "metadata": {
        "colab": {
          "base_uri": "https://localhost:8080/"
        },
        "id": "g6zcfdOI2ZUz",
        "outputId": "21d92ef0-aafc-4b9a-fce4-77d05d778d71"
      },
      "source": [
        "print(\"\\\"\")\r\n",
        "print(\"Nombre: Jose\\n\\tcon una edad de: 18 años\")\r\n",
        "\r\n",
        "print(\"Hola \\u553F\")"
      ],
      "execution_count": 33,
      "outputs": [
        {
          "output_type": "stream",
          "text": [
            "\"\n",
            "Nombre: Jose\n",
            "\tcon una edad de: 18 años\n",
            "Hola 唿\n"
          ],
          "name": "stdout"
        }
      ]
    },
    {
      "cell_type": "markdown",
      "metadata": {
        "id": "ZT_wygG38_Ph"
      },
      "source": [
        "#Print y salto de line en el argumento\r\n",
        "####Print([Lista de variables], end=\"\\n\")\r\n",
        "\r\n"
      ]
    },
    {
      "cell_type": "code",
      "metadata": {
        "colab": {
          "base_uri": "https://localhost:8080/"
        },
        "id": "y-01g9OK9Wnf",
        "outputId": "e60c25ae-67f0-4fed-bf6b-8d3676f50523"
      },
      "source": [
        "print(\"Hola\", end=\"\\u13CD\")\r\n",
        "print(\"Mundo\", end=\"\\u13CD\")\r\n",
        "print(\"Fin\", end=\"\\u13CD\")"
      ],
      "execution_count": 35,
      "outputs": [
        {
          "output_type": "stream",
          "text": [
            "HolaᏍMundoᏍFinᏍ"
          ],
          "name": "stdout"
        }
      ]
    },
    {
      "cell_type": "markdown",
      "metadata": {
        "id": "vV2yHFER9jAT"
      },
      "source": [
        "# Comentarios en Python.\r\n",
        "Un comentario en programacion es un texto especial que es ignorado por el interprete o compilador (Segun sea el caso del lenguaje) y es empleado para que el programador documente sus algoritmos.\r\n",
        "\r\n",
        "Existen de dos tipos: De linea simple y de multiple linea \r\n",
        "\r\n",
        "En python.\r\n",
        "- Linea simple emplea #\r\n",
        "- Linea multiple \"\"\" "
      ]
    },
    {
      "cell_type": "code",
      "metadata": {
        "colab": {
          "base_uri": "https://localhost:8080/"
        },
        "id": "PJLyqvGL-iU_",
        "outputId": "80ce7e26-9a22-4226-c09e-2bb92802cb15"
      },
      "source": [
        "print(\"Hola\") # si esto se imprime soy gei\r\n",
        "#Tacos de chicharron\r\n",
        "\r\n",
        "\r\n",
        "\r\n"
      ],
      "execution_count": 39,
      "outputs": [
        {
          "output_type": "stream",
          "text": [
            "Hola\n"
          ],
          "name": "stdout"
        }
      ]
    }
  ]
}