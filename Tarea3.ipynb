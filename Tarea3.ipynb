{
  "nbformat": 4,
  "nbformat_minor": 0,
  "metadata": {
    "colab": {
      "name": "Tarea3.ipynb",
      "provenance": [],
      "authorship_tag": "ABX9TyORa7MBUHQt1JXPYoUQwRTq",
      "include_colab_link": true
    },
    "kernelspec": {
      "name": "python3",
      "display_name": "Python 3"
    }
  },
  "cells": [
    {
      "cell_type": "markdown",
      "metadata": {
        "id": "view-in-github",
        "colab_type": "text"
      },
      "source": [
        "<a href=\"https://colab.research.google.com/github/sergioaliom/cyp_2021/blob/main/Tarea3.ipynb\" target=\"_parent\"><img src=\"https://colab.research.google.com/assets/colab-badge.svg\" alt=\"Open In Colab\"/></a>"
      ]
    },
    {
      "cell_type": "code",
      "metadata": {
        "id": "P2PdVXgNGLXR"
      },
      "source": [
        "#Problema 1.1\n",
        "PREPRO = 0\n",
        "PAGO = 0 \n",
        "PREPRO = int(input (\"Precio del producto:\"))\n",
        "PAGO = int(input (\"Efectivo que dispones:\"))\n",
        "DEVO = PAGO - PREPRO \n",
        "\n",
        "print(\"Su cambio es:\", DEVO)"
      ],
      "execution_count": null,
      "outputs": []
    },
    {
      "cell_type": "code",
      "metadata": {
        "colab": {
          "base_uri": "https://localhost:8080/"
        },
        "id": "HCAwePFzHeJ9",
        "outputId": "e8c6e4fa-4df0-430b-c8d5-36e4fc73f9b7"
      },
      "source": [
        "#Problema 1.2\n",
        "BASE = 0\n",
        "ALTU = 0\n",
        "BASE = float(input(\"Ingrese la base del triangulo:\"))\n",
        "ALTU = float(input(\"Ingresa la altura del triangulo:\"))\n",
        "SUP = (BASE * ALTU)/2\n",
        "\n",
        "print(\"La superficie de su triangulo es:\", SUP)"
      ],
      "execution_count": 5,
      "outputs": [
        {
          "output_type": "stream",
          "text": [
            "Ingrese la base del triangulo:8.50\n",
            "Ingresa la altura del triangulo:7.20\n",
            "La superficie de su triangulo es: 30.6\n"
          ],
          "name": "stdout"
        }
      ]
    },
    {
      "cell_type": "code",
      "metadata": {
        "colab": {
          "base_uri": "https://localhost:8080/"
        },
        "id": "7WVDPBfhIqg-",
        "outputId": "ad867403-35cd-401b-86d7-e0fd74731f4c"
      },
      "source": [
        "#Problema 1.3\n",
        "NOM = 0\n",
        "PES = 0\n",
        "LON = 0 \n",
        "NOM = (input(\"Ingresa el nombre del dinosaurio:\"))\n",
        "PES = int(input(\"Ingresa el peso del dinosaurio:\"))\n",
        "LON = int(input(\"Ingresa la longitud del dinosaurio:\"))\n",
        "PESKIL = PES * 1000\n",
        "LONMET = LON *0.3047\n",
        "\n",
        "print(\"El dinosaurio\", NOM, \"tenía un peso de:\", PESKIL, \"y una longitud de:\", LONMET)"
      ],
      "execution_count": 6,
      "outputs": [
        {
          "output_type": "stream",
          "text": [
            "Ingresa el nombre del dinosaurio:diplojocus\n",
            "Ingresa el peso del dinosaurio:15\n",
            "Ingresa la longitud del dinosaurio:90\n",
            "El dinosaurio diplojocus tenía un peso de: 15000 y una longitud de: 27.423000000000002\n"
          ],
          "name": "stdout"
        }
      ]
    },
    {
      "cell_type": "code",
      "metadata": {
        "colab": {
          "base_uri": "https://localhost:8080/"
        },
        "id": "ZLvF0fY7J69I",
        "outputId": "167f952c-ddde-460a-bcfa-caa0ce7d402e"
      },
      "source": [
        "#Problema 1.4\n",
        "GAL = 0\n",
        "GAL = float(input(\"Ingresa los galones de gasolina:\"))\n",
        "TOTAL = GAL * 3.785 * 8.20\n",
        "\n",
        "print(\"El total seria:\", TOTAL)"
      ],
      "execution_count": 8,
      "outputs": [
        {
          "output_type": "stream",
          "text": [
            "Ingresa los galones de gasolina:10.38\n",
            "El total seria: 322.16406\n"
          ],
          "name": "stdout"
        }
      ]
    },
    {
      "cell_type": "code",
      "metadata": {
        "colab": {
          "base_uri": "https://localhost:8080/"
        },
        "id": "VY8wP91LKd_o",
        "outputId": "566574da-efbb-4591-a37e-e9875536ca7a"
      },
      "source": [
        "#Problema 1.5\n",
        "RADIO = 0\n",
        "ALTU = 0\n",
        "RADIO = float(input(\"Ingresa el radio de tu cilindro:\"))\n",
        "ALTU = float(input(\"Ingresa la altura de tu cilindro\"))\n",
        "VOL = 3.141592 * (RADIO**2) * ALTU\n",
        "ARE = 2 * 3.141592 * RADIO * ALTU\n",
        "\n",
        "print(\"El area de tu cilindro es:\", ARE ,\"y su volumen es:\", VOL)"
      ],
      "execution_count": 9,
      "outputs": [
        {
          "output_type": "stream",
          "text": [
            "Ingresa el radio de tu cilindro:45.22\n",
            "Ingresa la altura de tu cilindro11.60\n",
            "El area de tu cilindro es: 3295.856733568 y su volumen es: 74519.32074597248\n"
          ],
          "name": "stdout"
        }
      ]
    },
    {
      "cell_type": "code",
      "metadata": {
        "colab": {
          "base_uri": "https://localhost:8080/"
        },
        "id": "U4xi3kILLbqS",
        "outputId": "4f399412-f968-4dce-8fee-abac1558a7f2"
      },
      "source": [
        "#Problema 1.6 \n",
        "DIAS = 0\n",
        "DIAS = int(input(\"Ingresa el numero de dias que quieras calcular:\"))\n",
        "SEG = DIAS  *24 *60 * 60 \n",
        "\n",
        "print(\"En\", DIAS, \"dias hay\", SEG, \"segundos\")"
      ],
      "execution_count": 11,
      "outputs": [
        {
          "output_type": "stream",
          "text": [
            "Ingresa el numero de dias que quieras calcular:7\n",
            "En 7 dias hay 604800 segundos\n"
          ],
          "name": "stdout"
        }
      ]
    }
  ]
}