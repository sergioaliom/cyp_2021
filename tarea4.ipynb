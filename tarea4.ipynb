{
  "nbformat": 4,
  "nbformat_minor": 0,
  "metadata": {
    "colab": {
      "name": "tarea4.ipynb",
      "provenance": [],
      "authorship_tag": "ABX9TyMtNA1+9gzCFhUXgQhV0+sR",
      "include_colab_link": true
    },
    "kernelspec": {
      "name": "python3",
      "display_name": "Python 3"
    }
  },
  "cells": [
    {
      "cell_type": "markdown",
      "metadata": {
        "id": "view-in-github",
        "colab_type": "text"
      },
      "source": [
        "<a href=\"https://colab.research.google.com/github/sergioaliom/cyp_2021/blob/main/tarea4.ipynb\" target=\"_parent\"><img src=\"https://colab.research.google.com/assets/colab-badge.svg\" alt=\"Open In Colab\"/></a>"
      ]
    },
    {
      "cell_type": "code",
      "metadata": {
        "colab": {
          "base_uri": "https://localhost:8080/"
        },
        "id": "ZgkHx_Gjf1eU",
        "outputId": "213e611a-6c9a-4e8e-c70c-9033a4bcedf1"
      },
      "source": [
        "cate = int(input(\"Cual es su categoria?: \"))\n",
        "sue = int(input(\"Cual es su sueldo?: \"))\n",
        "\n",
        "if (cate==1):\n",
        "  Nsue = sue * 1.15\n",
        "\n",
        "  print(\"Su categoria es:\", cate, \"y su nuevo sueldo es:\", Nsue)\n",
        "\n",
        "elif (cate==2):\n",
        "  Nsue = sue * 1.10\n",
        "\n",
        "  print(\"Su categoria es:\", cate, \"y su nuevo sueldo es:\", Nsue)\n",
        "  if (cate==3):\n",
        "    Nsue = sue * 1.08\n",
        "\n",
        "    print(\"Su categoria es:\", cate, \"y su nuevo sueldo es:\", Nsue)\n",
        "else:\n",
        "  Nsue = sue * 1.07\n",
        "  print(\"Su categoria es:\", cate, \"y su nuevo sueldo es:\", Nsue)\n"
      ],
      "execution_count": 71,
      "outputs": [
        {
          "output_type": "stream",
          "text": [
            "Cual es su categoria?: 4\n",
            "Cual es su sueldo?: 6200\n",
            "Su categoria es: 4 y su nuevo sueldo es: 6634.0\n"
          ],
          "name": "stdout"
        }
      ]
    },
    {
      "cell_type": "code",
      "metadata": {
        "colab": {
          "base_uri": "https://localhost:8080/"
        },
        "id": "x2YR0Dh8hYg6",
        "outputId": "81c60f33-c88f-4def-9155-8ad82ed877e5"
      },
      "source": [
        "sue = float(input(\"Cual es su sueldo?: \"))\n",
        "\n",
        "if (sue < 1000):\n",
        "\n",
        "  nsue = sue * 1.15\n",
        "\n",
        "  print(\"Tu nuevo sueldo es de: \", nsue)\n",
        "\n",
        "else: \n",
        "  \n",
        "  nsue = sue * 1.12\n",
        "  \n",
        "  print(\"Tu nuevo sueldo es de: \", nsue)\n",
        "\n"
      ],
      "execution_count": 73,
      "outputs": [
        {
          "output_type": "stream",
          "text": [
            "Cual es su sueldo?: 1200\n",
            "Tu nuevo sueldo es de:  1344.0000000000002\n"
          ],
          "name": "stdout"
        }
      ]
    }
  ]
}