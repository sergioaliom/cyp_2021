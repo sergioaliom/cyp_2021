{
  "nbformat": 4,
  "nbformat_minor": 0,
  "metadata": {
    "colab": {
      "name": "Untitled0.ipynb",
      "provenance": [],
      "authorship_tag": "ABX9TyPO/PzvRpTOJL9yT66LXshC",
      "include_colab_link": true
    },
    "kernelspec": {
      "name": "python3",
      "display_name": "Python 3"
    }
  },
  "cells": [
    {
      "cell_type": "markdown",
      "metadata": {
        "id": "view-in-github",
        "colab_type": "text"
      },
      "source": [
        "<a href=\"https://colab.research.google.com/github/sergioaliom/cyp_2021/blob/main/Tarea5.ipynb\" target=\"_parent\"><img src=\"https://colab.research.google.com/assets/colab-badge.svg\" alt=\"Open In Colab\"/></a>"
      ]
    },
    {
      "cell_type": "code",
      "metadata": {
        "colab": {
          "base_uri": "https://localhost:8080/"
        },
        "id": "MEwNuKs08hPh",
        "outputId": "51ecaa5e-0c38-4b1f-9288-819af3d074c0"
      },
      "source": [
        "# Ejemplo 3.1\n",
        "\n",
        "nom = 0\n",
        "nomina = 0\n",
        "\n",
        "for i in [1,2,3,4,5,6,7,8,9,10]:\n",
        "   nom = float(input(f\"Ingrese la cantidad de sueldo {i} \"))\n",
        "\n",
        "   nomina += nom\n",
        "print(f\"La nomina es: $ {nomina}\")\n",
        "\n"
      ],
      "execution_count": 2,
      "outputs": [
        {
          "output_type": "stream",
          "text": [
            "Ingrese la cantidad de sueldo 1 10\n",
            "Ingrese la cantidad de sueldo 2 10\n",
            "Ingrese la cantidad de sueldo 3 10\n",
            "Ingrese la cantidad de sueldo 4 10\n",
            "Ingrese la cantidad de sueldo 5 10\n",
            "Ingrese la cantidad de sueldo 6 10\n",
            "Ingrese la cantidad de sueldo 7 10\n",
            "Ingrese la cantidad de sueldo 8 10\n",
            "Ingrese la cantidad de sueldo 9 10\n",
            "Ingrese la cantidad de sueldo 10 10\n",
            "La nomina es: $ 100.0\n"
          ],
          "name": "stdout"
        }
      ]
    },
    {
      "cell_type": "code",
      "metadata": {
        "colab": {
          "base_uri": "https://localhost:8080/"
        },
        "id": "_zkXEBVl81yi",
        "outputId": "09769ce7-9197-4f0d-e48c-589b453fe5ad"
      },
      "source": [
        "total = 0\n",
        "gasto = int\n",
        "\n",
        "gasto=float(input(\"Ingresa el gasto: \"))\n",
        "while gasto  > 1:\t\n",
        " total = total + gasto\n",
        " gasto=float(input(\"Ingresa el gasto: \"))\n",
        "  \n",
        "print(\"El gasto total es: $\" + str (total))"
      ],
      "execution_count": 3,
      "outputs": [
        {
          "output_type": "stream",
          "text": [
            "Ingresa el gasto: 10\n",
            "Ingresa el gasto: 10\n",
            "Ingresa el gasto: 10\n",
            "Ingresa el gasto: 10\n",
            "Ingresa el gasto: 10\n",
            "Ingresa el gasto: 10\n",
            "Ingresa el gasto: 10\n",
            "Ingresa el gasto: 10\n",
            "Ingresa el gasto: 10\n",
            "Ingresa el gasto: 10\n",
            "Ingresa el gasto: 10\n",
            "Ingresa el gasto: 0\n",
            "El gasto total es: $110.0\n"
          ],
          "name": "stdout"
        }
      ]
    }
  ]
}