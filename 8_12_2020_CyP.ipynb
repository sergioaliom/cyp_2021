{
  "nbformat": 4,
  "nbformat_minor": 0,
  "metadata": {
    "colab": {
      "name": "8/12/2020_CyP.ipynb",
      "provenance": [],
      "authorship_tag": "ABX9TyMpwy/ZdP3eJx+qv3QltOF0",
      "include_colab_link": true
    },
    "kernelspec": {
      "name": "python3",
      "display_name": "Python 3"
    }
  },
  "cells": [
    {
      "cell_type": "markdown",
      "metadata": {
        "id": "view-in-github",
        "colab_type": "text"
      },
      "source": [
        "<a href=\"https://colab.research.google.com/github/sergioaliom/cyp_2021/blob/main/8_12_2020_CyP.ipynb\" target=\"_parent\"><img src=\"https://colab.research.google.com/assets/colab-badge.svg\" alt=\"Open In Colab\"/></a>"
      ]
    },
    {
      "cell_type": "code",
      "metadata": {
        "colab": {
          "base_uri": "https://localhost:8080/"
        },
        "id": "upP4JvIUW2xD",
        "outputId": "3031e9e3-da39-4b92-d418-480e3deaf619"
      },
      "source": [
        "a = 20 \r\n",
        "while(a > 10):\r\n",
        "  print(f\"A = {a}\")\r\n",
        "  a = a-1"
      ],
      "execution_count": null,
      "outputs": [
        {
          "output_type": "stream",
          "text": [
            "A = 20\n",
            "A = 19\n",
            "A = 18\n",
            "A = 17\n",
            "A = 16\n",
            "A = 15\n",
            "A = 14\n",
            "A = 13\n",
            "A = 12\n",
            "A = 11\n"
          ],
          "name": "stdout"
        }
      ]
    },
    {
      "cell_type": "code",
      "metadata": {
        "colab": {
          "base_uri": "https://localhost:8080/"
        },
        "id": "2KnUx7FOZuzu",
        "outputId": "c0a56218-3ffb-4aaf-a4f4-44af65bf8204"
      },
      "source": [
        "suma_gas = 0\r\n",
        "gasto = float(input(\"Introduce un gasto: \"))\r\n",
        "while (gasto != -1):\r\n",
        "  suma_gas = suma_gas + gasto\r\n",
        "  gasto = float(input(\"Introduce un gasto: \"))\r\n",
        "print(f\"La suma total es {suma_gas} pesos\")"
      ],
      "execution_count": null,
      "outputs": [
        {
          "output_type": "stream",
          "text": [
            "Introduce un gasto: 1.1\n",
            "Introduce un gasto: 2.2\n",
            "Introduce un gasto: 1.1\n",
            "Introduce un gasto: -1\n",
            "La suma total es 4.4 pesos\n"
          ],
          "name": "stdout"
        }
      ]
    },
    {
      "cell_type": "code",
      "metadata": {
        "colab": {
          "base_uri": "https://localhost:8080/"
        },
        "id": "xPu5mHjWcjg-",
        "outputId": "360bba40-fdf0-4f8d-af12-4b97282587cf"
      },
      "source": [
        "cub = 0\r\n",
        "num = float(input(\"Ingrese el numero: \"))\r\n",
        "\r\n",
        "while num != -1:\r\n",
        "  cub = num ** 3\r\n",
        "  print(f\"el cubo del numero {num} es: {cub}\")\r\n",
        "  num = float(input(\"Ingrese el numero: \"))\r\n",
        "print(\"Fin del programa\")\r\n"
      ],
      "execution_count": null,
      "outputs": [
        {
          "output_type": "stream",
          "text": [
            "Ingrese el numero: -1\n",
            "Fin del programa\n"
          ],
          "name": "stdout"
        }
      ]
    },
    {
      "cell_type": "code",
      "metadata": {
        "colab": {
          "base_uri": "https://localhost:8080/"
        },
        "id": "PRpWUGj4jByF",
        "outputId": "1052663a-9550-407e-f117-abdfe5fbdddf"
      },
      "source": [
        "sumpar=0\r\n",
        "sumimp=0\r\n",
        "cuepar=0\r\n",
        "I=1\r\n",
        "\r\n",
        "while I<=5:\r\n",
        "  num = int(input(\"Introduce un numero entero: \"))\r\n",
        "  if num != 0:\r\n",
        "    if ((-1)**num) > 0: #num % 2\r\n",
        "      print(\"Es par\")\r\n",
        "      sumpar = sumpar + num\r\n",
        "      cuepar = cuepar + 1\r\n",
        "    else:\r\n",
        "      sumimp = sumimp + num\r\n",
        "  I = I+1\r\n",
        "propar= sumpar/ cuepar\r\n",
        "print(f\"El promedio de los pares es: {propar}\")\r\n",
        "print(f\"La suma de los impares es: {sumimp}\")"
      ],
      "execution_count": null,
      "outputs": [
        {
          "output_type": "stream",
          "text": [
            "Introduce un numero entero: 1\n",
            "Introduce un numero entero: 2\n",
            "es par\n",
            "Introduce un numero entero: 3\n",
            "Introduce un numero entero: 4\n",
            "es par\n",
            "Introduce un numero entero: 5\n",
            "El promedio de los pares es: 3.0\n",
            "La suma de los impares es: 9\n"
          ],
          "name": "stdout"
        }
      ]
    },
    {
      "cell_type": "code",
      "metadata": {
        "colab": {
          "base_uri": "https://localhost:8080/"
        },
        "id": "08pu9FQVjlnO",
        "outputId": "3d1c8586-79eb-4e0c-8336-03e7cdc19b6c"
      },
      "source": [
        "band = True \r\n",
        "sumser = 0 \r\n",
        "I = 2 \r\n",
        "while I <= 1800: \r\n",
        "  sumser = sumser + I\r\n",
        "  print(f\"{I}, \", end=\"\")\r\n",
        "  if band == True: \r\n",
        "    band = False \r\n",
        "    I = I + 3\r\n",
        "  else: \r\n",
        "    band = True\r\n",
        "    I = I + 2\r\n",
        "print(\"\\nLa suma de la serie es: \", sumser)  "
      ],
      "execution_count": null,
      "outputs": [
        {
          "output_type": "stream",
          "text": [
            "2, 5, 7, 10, 12, 15, 17, 20, 22, 25, 27, 30, 32, 35, 37, 40, 42, 45, 47, 50, 52, 55, 57, 60, 62, 65, 67, 70, 72, 75, 77, 80, 82, 85, 87, 90, 92, 95, 97, 100, 102, 105, 107, 110, 112, 115, 117, 120, 122, 125, 127, 130, 132, 135, 137, 140, 142, 145, 147, 150, 152, 155, 157, 160, 162, 165, 167, 170, 172, 175, 177, 180, 182, 185, 187, 190, 192, 195, 197, 200, 202, 205, 207, 210, 212, 215, 217, 220, 222, 225, 227, 230, 232, 235, 237, 240, 242, 245, 247, 250, 252, 255, 257, 260, 262, 265, 267, 270, 272, 275, 277, 280, 282, 285, 287, 290, 292, 295, 297, 300, 302, 305, 307, 310, 312, 315, 317, 320, 322, 325, 327, 330, 332, 335, 337, 340, 342, 345, 347, 350, 352, 355, 357, 360, 362, 365, 367, 370, 372, 375, 377, 380, 382, 385, 387, 390, 392, 395, 397, 400, 402, 405, 407, 410, 412, 415, 417, 420, 422, 425, 427, 430, 432, 435, 437, 440, 442, 445, 447, 450, 452, 455, 457, 460, 462, 465, 467, 470, 472, 475, 477, 480, 482, 485, 487, 490, 492, 495, 497, 500, 502, 505, 507, 510, 512, 515, 517, 520, 522, 525, 527, 530, 532, 535, 537, 540, 542, 545, 547, 550, 552, 555, 557, 560, 562, 565, 567, 570, 572, 575, 577, 580, 582, 585, 587, 590, 592, 595, 597, 600, 602, 605, 607, 610, 612, 615, 617, 620, 622, 625, 627, 630, 632, 635, 637, 640, 642, 645, 647, 650, 652, 655, 657, 660, 662, 665, 667, 670, 672, 675, 677, 680, 682, 685, 687, 690, 692, 695, 697, 700, 702, 705, 707, 710, 712, 715, 717, 720, 722, 725, 727, 730, 732, 735, 737, 740, 742, 745, 747, 750, 752, 755, 757, 760, 762, 765, 767, 770, 772, 775, 777, 780, 782, 785, 787, 790, 792, 795, 797, 800, 802, 805, 807, 810, 812, 815, 817, 820, 822, 825, 827, 830, 832, 835, 837, 840, 842, 845, 847, 850, 852, 855, 857, 860, 862, 865, 867, 870, 872, 875, 877, 880, 882, 885, 887, 890, 892, 895, 897, 900, 902, 905, 907, 910, 912, 915, 917, 920, 922, 925, 927, 930, 932, 935, 937, 940, 942, 945, 947, 950, 952, 955, 957, 960, 962, 965, 967, 970, 972, 975, 977, 980, 982, 985, 987, 990, 992, 995, 997, 1000, 1002, 1005, 1007, 1010, 1012, 1015, 1017, 1020, 1022, 1025, 1027, 1030, 1032, 1035, 1037, 1040, 1042, 1045, 1047, 1050, 1052, 1055, 1057, 1060, 1062, 1065, 1067, 1070, 1072, 1075, 1077, 1080, 1082, 1085, 1087, 1090, 1092, 1095, 1097, 1100, 1102, 1105, 1107, 1110, 1112, 1115, 1117, 1120, 1122, 1125, 1127, 1130, 1132, 1135, 1137, 1140, 1142, 1145, 1147, 1150, 1152, 1155, 1157, 1160, 1162, 1165, 1167, 1170, 1172, 1175, 1177, 1180, 1182, 1185, 1187, 1190, 1192, 1195, 1197, 1200, 1202, 1205, 1207, 1210, 1212, 1215, 1217, 1220, 1222, 1225, 1227, 1230, 1232, 1235, 1237, 1240, 1242, 1245, 1247, 1250, 1252, 1255, 1257, 1260, 1262, 1265, 1267, 1270, 1272, 1275, 1277, 1280, 1282, 1285, 1287, 1290, 1292, 1295, 1297, 1300, 1302, 1305, 1307, 1310, 1312, 1315, 1317, 1320, 1322, 1325, 1327, 1330, 1332, 1335, 1337, 1340, 1342, 1345, 1347, 1350, 1352, 1355, 1357, 1360, 1362, 1365, 1367, 1370, 1372, 1375, 1377, 1380, 1382, 1385, 1387, 1390, 1392, 1395, 1397, 1400, 1402, 1405, 1407, 1410, 1412, 1415, 1417, 1420, 1422, 1425, 1427, 1430, 1432, 1435, 1437, 1440, 1442, 1445, 1447, 1450, 1452, 1455, 1457, 1460, 1462, 1465, 1467, 1470, 1472, 1475, 1477, 1480, 1482, 1485, 1487, 1490, 1492, 1495, 1497, 1500, 1502, 1505, 1507, 1510, 1512, 1515, 1517, 1520, 1522, 1525, 1527, 1530, 1532, 1535, 1537, 1540, 1542, 1545, 1547, 1550, 1552, 1555, 1557, 1560, 1562, 1565, 1567, 1570, 1572, 1575, 1577, 1580, 1582, 1585, 1587, 1590, 1592, 1595, 1597, 1600, 1602, 1605, 1607, 1610, 1612, 1615, 1617, 1620, 1622, 1625, 1627, 1630, 1632, 1635, 1637, 1640, 1642, 1645, 1647, 1650, 1652, 1655, 1657, 1660, 1662, 1665, 1667, 1670, 1672, 1675, 1677, 1680, 1682, 1685, 1687, 1690, 1692, 1695, 1697, 1700, 1702, 1705, 1707, 1710, 1712, 1715, 1717, 1720, 1722, 1725, 1727, 1730, 1732, 1735, 1737, 1740, 1742, 1745, 1747, 1750, 1752, 1755, 1757, 1760, 1762, 1765, 1767, 1770, 1772, 1775, 1777, 1780, 1782, 1785, 1787, 1790, 1792, 1795, 1797, 1800, \n",
            "La suma de la serie es:  648720\n"
          ],
          "name": "stdout"
        }
      ]
    },
    {
      "cell_type": "code",
      "metadata": {
        "colab": {
          "base_uri": "https://localhost:8080/"
        },
        "id": "h-j7-gyAp85N",
        "outputId": "ec028b5a-506b-455a-fbc5-7a8a581c763b"
      },
      "source": [
        "#Ejemplos de arreglos\r\n",
        "\"\"\"\r\n",
        "En python no existe el tipo de dato espceial arreglo, en su lugar existe le\r\n",
        " tipo de dato nativo list que funciona de manera muy semejante.\r\n",
        " Ejemplo: Declarar un arreglo de 70 elementos de tipo float para almacenar\r\n",
        " sueldos\r\n",
        " \"\"\"\r\n",
        "\r\n",
        "sueldos = [0.0 for x in range(7)]\r\n",
        "print(sueldos)\r\n",
        "sueldos[0] = 200.5\r\n",
        "print(sueldos)\r\n",
        "sueldos [4] =77.77\r\n",
        "print(sueldos)"
      ],
      "execution_count": 52,
      "outputs": [
        {
          "output_type": "stream",
          "text": [
            "[0.0, 0.0, 0.0, 0.0, 0.0, 0.0, 0.0]\n",
            "[200.5, 0.0, 0.0, 0.0, 0.0, 0.0, 0.0]\n",
            "[200.5, 0.0, 0.0, 0.0, 77.77, 0.0, 0.0]\n"
          ],
          "name": "stdout"
        }
      ]
    },
    {
      "cell_type": "code",
      "metadata": {
        "colab": {
          "base_uri": "https://localhost:8080/"
        },
        "id": "Oympx2-RuBQQ",
        "outputId": "bf0a24cd-c08c-4092-af43-e5f1b51ddc3b"
      },
      "source": [
        "s = [0.0 for x in range(7)]\r\n",
        "for j in range(7):\r\n",
        "  s[j]= float(input(\"Introduce tu sueldo: \"))\r\n",
        "print(s) \r\n",
        "for j in range(7):\r\n",
        "  print(s[j])"
      ],
      "execution_count": 64,
      "outputs": [
        {
          "output_type": "stream",
          "text": [
            "Introduce tu sueldo: 1.1\n",
            "Introduce tu sueldo: 2.2\n",
            "Introduce tu sueldo: 3.3\n",
            "Introduce tu sueldo: 4.4\n",
            "Introduce tu sueldo: 5.5\n",
            "Introduce tu sueldo: 66.6\n",
            "Introduce tu sueldo: 7.7\n",
            "[1.1, 2.2, 3.3, 4.4, 5.5, 66.6, 7.7]\n",
            "1.1\n",
            "2.2\n",
            "3.3\n",
            "4.4\n",
            "5.5\n",
            "66.6\n",
            "7.7\n"
          ],
          "name": "stdout"
        }
      ]
    }
  ]
}