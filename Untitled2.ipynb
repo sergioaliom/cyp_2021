{
  "nbformat": 4,
  "nbformat_minor": 0,
  "metadata": {
    "colab": {
      "name": "Untitled2.ipynb",
      "provenance": [],
      "authorship_tag": "ABX9TyNKtSajAvyh09eyqGxVG1bX",
      "include_colab_link": true
    },
    "kernelspec": {
      "name": "python3",
      "display_name": "Python 3"
    }
  },
  "cells": [
    {
      "cell_type": "markdown",
      "metadata": {
        "id": "view-in-github",
        "colab_type": "text"
      },
      "source": [
        "<a href=\"https://colab.research.google.com/github/sergioaliom/cyp_2021/blob/main/Untitled2.ipynb\" target=\"_parent\"><img src=\"https://colab.research.google.com/assets/colab-badge.svg\" alt=\"Open In Colab\"/></a>"
      ]
    },
    {
      "cell_type": "code",
      "metadata": {
        "colab": {
          "base_uri": "https://localhost:8080/"
        },
        "id": "CWrYHSr9EP-F",
        "outputId": "fa6f7324-9043-4536-8d89-8e0c7ea401e4"
      },
      "source": [
        "calificacion = int(input(\"Ingresa tu calificacion: \"))\r\n",
        "\r\n",
        "if (calificacion >=8 and calificacion<=10):\r\n",
        "  print(\"Aprobaste\")\r\n",
        "else: \r\n",
        "  if(calificacion<=7 and calificacion>=0):\r\n",
        "    print(\"No aprobaste\")\r\n",
        "  else:\r\n",
        "    print(\"Verifica tus datos\")"
      ],
      "execution_count": 26,
      "outputs": [
        {
          "output_type": "stream",
          "text": [
            "Ingresa tu calificacion: 10\n",
            "Aprobaste\n"
          ],
          "name": "stdout"
        }
      ]
    },
    {
      "cell_type": "code",
      "metadata": {
        "colab": {
          "base_uri": "https://localhost:8080/"
        },
        "id": "0lSPF3ykG-jY",
        "outputId": "4e6c1780-6bd7-4ab4-b4e8-bb31d394c274"
      },
      "source": [
        "Tacos = ['Suadero', 'Pastor', 'Tripa', 'OtroTacoNoSe']\r\n",
        "print(Tacos)"
      ],
      "execution_count": 28,
      "outputs": [
        {
          "output_type": "stream",
          "text": [
            "['Suadero', 'Pastor', 'Tripa', 'OtroTacoNoSe']\n"
          ],
          "name": "stdout"
        }
      ]
    },
    {
      "cell_type": "code",
      "metadata": {
        "colab": {
          "base_uri": "https://localhost:8080/"
        },
        "id": "OpT6wpJyJih9",
        "outputId": "eaf4f053-dd1c-49d1-feb9-efe38472a0c2"
      },
      "source": [
        "for i in range (0,11):\r\n",
        "  numero = 5 *(i+1)\r\n",
        "  print(f\"5 x {i+1} = {numero}\")"
      ],
      "execution_count": 35,
      "outputs": [
        {
          "output_type": "stream",
          "text": [
            "5 x 1 = 5\n",
            "5 x 2 = 10\n",
            "5 x 3 = 15\n",
            "5 x 4 = 20\n",
            "5 x 5 = 25\n",
            "5 x 6 = 30\n",
            "5 x 7 = 35\n",
            "5 x 8 = 40\n",
            "5 x 9 = 45\n",
            "5 x 10 = 50\n",
            "5 x 11 = 55\n"
          ],
          "name": "stdout"
        }
      ]
    },
    {
      "cell_type": "code",
      "metadata": {
        "colab": {
          "base_uri": "https://localhost:8080/"
        },
        "id": "5-q-5y9WKtdv",
        "outputId": "c5187ef5-435d-4e0f-8127-e50eb4b4ce5a"
      },
      "source": [
        "nombre1 = (input(\"Ingresa tu primer nombre: \"))\r\n",
        "nombre2 = (input(\"Ingresa tu segundo nombre: \"))\r\n",
        "\r\n",
        "if nombre1 == nombre2:\r\n",
        "  print(\"Coincidencia\")\r\n",
        "else:\r\n",
        "  print(\"No hay coincidencia\")"
      ],
      "execution_count": 37,
      "outputs": [
        {
          "output_type": "stream",
          "text": [
            "Ingresa tu primer nombre: Sergio\n",
            "Ingresa tu segundo nombre: Ali\n",
            "No hay coincidencia\n"
          ],
          "name": "stdout"
        }
      ]
    },
    {
      "cell_type": "code",
      "metadata": {
        "colab": {
          "base_uri": "https://localhost:8080/"
        },
        "id": "udYpABUxNBD3",
        "outputId": "1ce858df-2539-4ce2-94ef-1792a0546caa"
      },
      "source": [
        "for num in range(100,0,-1):\r\n",
        "    print(num)"
      ],
      "execution_count": 39,
      "outputs": [
        {
          "output_type": "stream",
          "text": [
            "100\n",
            "99\n",
            "98\n",
            "97\n",
            "96\n",
            "95\n",
            "94\n",
            "93\n",
            "92\n",
            "91\n",
            "90\n",
            "89\n",
            "88\n",
            "87\n",
            "86\n",
            "85\n",
            "84\n",
            "83\n",
            "82\n",
            "81\n",
            "80\n",
            "79\n",
            "78\n",
            "77\n",
            "76\n",
            "75\n",
            "74\n",
            "73\n",
            "72\n",
            "71\n",
            "70\n",
            "69\n",
            "68\n",
            "67\n",
            "66\n",
            "65\n",
            "64\n",
            "63\n",
            "62\n",
            "61\n",
            "60\n",
            "59\n",
            "58\n",
            "57\n",
            "56\n",
            "55\n",
            "54\n",
            "53\n",
            "52\n",
            "51\n",
            "50\n",
            "49\n",
            "48\n",
            "47\n",
            "46\n",
            "45\n",
            "44\n",
            "43\n",
            "42\n",
            "41\n",
            "40\n",
            "39\n",
            "38\n",
            "37\n",
            "36\n",
            "35\n",
            "34\n",
            "33\n",
            "32\n",
            "31\n",
            "30\n",
            "29\n",
            "28\n",
            "27\n",
            "26\n",
            "25\n",
            "24\n",
            "23\n",
            "22\n",
            "21\n",
            "20\n",
            "19\n",
            "18\n",
            "17\n",
            "16\n",
            "15\n",
            "14\n",
            "13\n",
            "12\n",
            "11\n",
            "10\n",
            "9\n",
            "8\n",
            "7\n",
            "6\n",
            "5\n",
            "4\n",
            "3\n",
            "2\n",
            "1\n"
          ],
          "name": "stdout"
        }
      ]
    },
    {
      "cell_type": "code",
      "metadata": {
        "colab": {
          "base_uri": "https://localhost:8080/",
          "height": 130
        },
        "id": "MUY3UhsXNjcC",
        "outputId": "83bc419e-0282-4742-c538-04a3cc912415"
      },
      "source": [
        "numero1=int(input(\"Introduce el primer numero:\"))\r\n",
        "\r\n",
        "numero2=int(input(\"Introduce el segundo numero:\"))\r\n",
        "\r\n",
        "\r\n",
        "if numero1 >= numero2 and numero1 >= numero2:\r\n",
        "  print(numero1, \"es mayor\")\r\n",
        "elif numero2 >= numero1 and numero2 >= numero1:\r\n",
        "  print(numero2,\"es el mayor\")\r\n",
        "else numero1 == numero2:\r\n",
        "    print(\"Son iguales\")"
      ],
      "execution_count": 107,
      "outputs": [
        {
          "output_type": "error",
          "ename": "SyntaxError",
          "evalue": "ignored",
          "traceback": [
            "\u001b[0;36m  File \u001b[0;32m\"<ipython-input-107-4f82c6222ffd>\"\u001b[0;36m, line \u001b[0;32m10\u001b[0m\n\u001b[0;31m    else numero1 == numero2:\u001b[0m\n\u001b[0m               ^\u001b[0m\n\u001b[0;31mSyntaxError\u001b[0m\u001b[0;31m:\u001b[0m invalid syntax\n"
          ]
        }
      ]
    },
    {
      "cell_type": "code",
      "metadata": {
        "colab": {
          "base_uri": "https://localhost:8080/"
        },
        "id": "wCnzMyYdQ6YT",
        "outputId": "23621e6a-9901-45d9-868d-3127232c1602"
      },
      "source": [
        "candidatos = str(input(\"Cual es su candidato?: \"))\r\n",
        "if candidatos == \"A\":\r\n",
        "  print(\"Usted ha votado por el partido rojo\")\r\n",
        "elif candidatos == \"B\":\r\n",
        "    print(\"Usted ha votado por el partido verde\")\r\n",
        "elif candidatos == \"C\":\r\n",
        "      print(\"Usted ha votado por el partido azul\")\r\n",
        "else:\r\n",
        "  print(\"Opcion erronea\")\r\n",
        "    \r\n"
      ],
      "execution_count": 104,
      "outputs": [
        {
          "output_type": "stream",
          "text": [
            "Cual es su candidato?: C\n",
            "Usted ha votado por el partido azul\n"
          ],
          "name": "stdout"
        }
      ]
    },
    {
      "cell_type": "code",
      "metadata": {
        "colab": {
          "base_uri": "https://localhost:8080/"
        },
        "id": "tP-GYN3KR2Wn",
        "outputId": "fbd46f00-158e-4526-808a-3d09c689b3e9"
      },
      "source": [
        "datos = int(input(\"Ingresa tu monto de dinero: \"))\r\n",
        "interes = (datos*0.3)+datos\r\n",
        "print(\"Su nuevo monto el primer mes seria de\", interes)"
      ],
      "execution_count": 106,
      "outputs": [
        {
          "output_type": "stream",
          "text": [
            "Ingresa tu monto de dinero: 100\n",
            "Su nuevo monto el primer mes seria de 130.0\n"
          ],
          "name": "stdout"
        }
      ]
    },
    {
      "cell_type": "code",
      "metadata": {
        "colab": {
          "base_uri": "https://localhost:8080/"
        },
        "id": "iYAjpFFwUWVb",
        "outputId": "4bddc13d-90a2-4c84-b60b-89c377550f02"
      },
      "source": [
        "carro = {'marca':'Nissan', 'Modelo':'Skyline GT-R R34', 'color':'Azul con Plateado', 'matricula':121212, 'precio':12222}\r\n",
        "carro1 = {'marca':'VW', 'Modelo':'Jetta', 'color':'Azul', 'matricula':12487, 'precio':1248956}\r\n",
        "carro2 = {'marca':'VW', 'Modelo':'Vento', 'color':'Plateado', 'matricula':784512, 'precio':12465123}\r\n",
        "carro3 = {'marca':'BMW', 'Modelo':'01', 'color':'Dorado', 'matricula':51654, 'precio':231654}\r\n",
        "carro4 = {'marca':'Nissan', 'Modelo':'Tsuru', 'color':'Taxi de la CDMX', 'matricula':'Es pirata', 'precio':23165}\r\n",
        "\r\n",
        "print(carro)\r\n",
        "print(carro1)\r\n",
        "print(carro2)\r\n",
        "print(carro3)\r\n",
        "print(carro4)\r\n"
      ],
      "execution_count": 116,
      "outputs": [
        {
          "output_type": "stream",
          "text": [
            "{'marca': 'Nissan', 'Modelo': 'Skyline GT-R R34', 'color': 'Azul con Plateado', 'matricula': 121212, 'precio': 12222}\n",
            "{'marca': 'VW', 'Modelo': 'Jetta', 'color': 'Azul', 'matricula': 12487, 'precio': 1248956}\n",
            "{'marca': 'VW', 'Modelo': 'Vento', 'color': 'Plateado', 'matricula': 784512, 'precio': 12465123}\n",
            "{'marca': 'BMW', 'Modelo': '01', 'color': 'Dorado', 'matricula': 51654, 'precio': 231654}\n",
            "{'marca': 'Nissan', 'Modelo': 'Tsuru', 'color': 'Taxi de la CDMX', 'matricula': 'Es pirata', 'precio': 23165}\n"
          ],
          "name": "stdout"
        }
      ]
    },
    {
      "cell_type": "code",
      "metadata": {
        "colab": {
          "base_uri": "https://localhost:8080/"
        },
        "id": "F4DcafodWUMW",
        "outputId": "935ee97e-3ec3-46a5-a383-cdc508850067"
      },
      "source": [
        "letra = str(input(\"Ingresa una letra: \"))\r\n",
        "\r\n",
        "if letra == \"a\":\r\n",
        "  print(\"Es una vocal\")\r\n",
        "elif letra ==\"e\":\r\n",
        "  print(\"Es una vocal\")\r\n",
        "elif letra ==\"i\":\r\n",
        "  print(\"Es una vocal\")\r\n",
        "elif letra ==\"o\":\r\n",
        "  print(\"Es una vocal\")\r\n",
        "elif letra ==\"u\":\r\n",
        "  print(\"Es una vocal\")\r\n",
        "else: \r\n",
        "  print(\"Checa tus datos\")"
      ],
      "execution_count": 127,
      "outputs": [
        {
          "output_type": "stream",
          "text": [
            "Ingresa una letra: a\n",
            "Es una vocal\n"
          ],
          "name": "stdout"
        }
      ]
    }
  ]
}