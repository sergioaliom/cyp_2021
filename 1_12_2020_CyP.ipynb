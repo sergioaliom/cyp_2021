{
  "nbformat": 4,
  "nbformat_minor": 0,
  "metadata": {
    "colab": {
      "name": "1/12/2020_CyP.ipynb",
      "provenance": [],
      "authorship_tag": "ABX9TyPpm5zLl0J7qC6GEMV3QYnd",
      "include_colab_link": true
    },
    "kernelspec": {
      "name": "python3",
      "display_name": "Python 3"
    }
  },
  "cells": [
    {
      "cell_type": "markdown",
      "metadata": {
        "id": "view-in-github",
        "colab_type": "text"
      },
      "source": [
        "<a href=\"https://colab.research.google.com/github/sergioaliom/cyp_2021/blob/main/1_12_2020_CyP.ipynb\" target=\"_parent\"><img src=\"https://colab.research.google.com/assets/colab-badge.svg\" alt=\"Open In Colab\"/></a>"
      ]
    },
    {
      "cell_type": "code",
      "metadata": {
        "id": "al6m_1xCTEAw"
      },
      "source": [
        "#ejemplo 1\n",
        "\n",
        "primerNumero = int(input(\"Primer numero: \"))\n",
        "segundoNumero = int(input(\"Segundo numero: \"))\n",
        "tercerNumero = int(input(\"Tercer numero: \"))\n",
        "\n",
        "if primerNumero == segundoNumero and primerNumero == tercerNumero :\n",
        "    print(\"Todos los numeros son iguales\")\n",
        "elif primerNumero > segundoNumero :\n",
        "    if primerNumero > tercerNumero:\n",
        "        print(f\"El numero {primerNumero} es el mayor.\")\n",
        "    else :\n",
        "        print(f\"El numero {tercerNumero} es el mayor.\")\n",
        "else :\n",
        "    if segundoNumero > tercerNumero:\n",
        "        prin\n"
      ],
      "execution_count": null,
      "outputs": []
    },
    {
      "cell_type": "code",
      "metadata": {
        "id": "hfqxe6CndM_A"
      },
      "source": [
        "print(\"Ingrese el nombre del trabajador\")\n",
        "nombre=input()\n",
        "print(\"Cuantas horas trabajo esta semana\", nombre, \":\")\n",
        "horas=int(input())\n",
        "print(\"Cuanto se paga por hora?:\")\n",
        "sueldoH=float(input())\n",
        "\n",
        "#Evaluar el sueldo\n",
        "\n",
        "if(horas<=40):\n",
        "  pago=horas*sueldoH\n",
        "  print(\"El sueldo de\",nombre,\"es $\", pago)\n",
        "\n",
        "elif(horas>40 and horas <=50):\n",
        "  extrasDobles=horas-40\n",
        "  print(\"Horas extras:\",extrasDobles)\n",
        "  pago=40*sueldoH\n",
        "  print(\"Sueldo $\", pago)\n",
        "  pagoDoble=extrasDobles*sueldoH*2\n",
        "  print(\"pago de horas dobles $\", pagoDoble)\n",
        "  pagoFinal=pago+pagoDoble\n",
        "  print(\"El sueldo de\",nombre,\"es $\", pagoFinal)\n",
        "\n",
        "elif ((horas>=51 and horas <=60 )):\n",
        "    extrasTriples=horas-50\n",
        "    print(\"horas extra dobles:10\")\n",
        "    print(\"horas extra triples:\", extrasTriples)\n",
        "    pago=40*sueldoH\n",
        "    print(\"sueldo base: $\", pago)\n",
        "    pagoDoble=10*sueldoH*2\n",
        "    print(\"pago de horas extras dobles:\", pagoDoble)\n",
        "    pagoTriple=extrasTriples*sueldoH*3\n",
        "    print(\"pago de horas extra triples:\" ,pagoTriple)\n",
        "    pagoFinal=pago+pagoDoble+pagoTriple\n",
        "    print(\"El sueldo de\",nombre,\"es $\", pagoFinal)\n",
        "else:\n",
        "  extrasTriples=10\n",
        "  print(\"Horas extra dobles 10\")\n",
        "  print(\"Horas extras triples\")\n",
        "  pago=40*sueldoH\n",
        "  print(\"Sueldo base:$\", pago)\n",
        "  pagoDoble=10*sueldoH*2\n",
        "  print(\"Pago de horas extras dobles:\", pagoDoble)\n",
        "  pagoTriple=extrasTriples*sueldoH*3\n",
        "  print(\"Pago de horas extras triples:\", pagoTriple)\n",
        "  print(\"Incentivo por trabajar mas de 60 horas:$\", 2000)\n",
        "  pagoFinal= pago + pagoDoble + pagoTriple\n",
        "  print(\"El sueldo de\",nombre,\"es $\", pagoFinal)"
      ],
      "execution_count": null,
      "outputs": []
    },
    {
      "cell_type": "code",
      "metadata": {
        "colab": {
          "base_uri": "https://localhost:8080/"
        },
        "id": "_vFUeWwhoEEW",
        "outputId": "f9581fea-4b3a-4e1e-c536-668e7672c6e3"
      },
      "source": [
        "for estaciones_año in [\"primavera\", \"verano\", \"otoño\", \"invierno\"]:\n",
        "  print(estaciones_año)\n"
      ],
      "execution_count": 31,
      "outputs": [
        {
          "output_type": "stream",
          "text": [
            "primavera\n",
            "verano\n",
            "otoño\n",
            "invierno\n"
          ],
          "name": "stdout"
        }
      ]
    }
  ]
}