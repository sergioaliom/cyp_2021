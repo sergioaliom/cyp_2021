{
  "nbformat": 4,
  "nbformat_minor": 0,
  "metadata": {
    "colab": {
      "name": "13/11/2020_CyP.ipynb",
      "provenance": [],
      "authorship_tag": "ABX9TyMuSpikSviHsMr4zzAHBZ62",
      "include_colab_link": true
    },
    "kernelspec": {
      "name": "python3",
      "display_name": "Python 3"
    }
  },
  "cells": [
    {
      "cell_type": "markdown",
      "metadata": {
        "id": "view-in-github",
        "colab_type": "text"
      },
      "source": [
        "<a href=\"https://colab.research.google.com/github/sergioaliom/cyp_2021/blob/main/13_11_2020_CyP.ipynb\" target=\"_parent\"><img src=\"https://colab.research.google.com/assets/colab-badge.svg\" alt=\"Open In Colab\"/></a>"
      ]
    },
    {
      "cell_type": "code",
      "metadata": {
        "colab": {
          "base_uri": "https://localhost:8080/"
        },
        "id": "our1KArIwRK1",
        "outputId": "fbbaeae5-f4a2-4a98-e6e7-e250952dffdb"
      },
      "source": [
        "numero=int(input(\"Dame un numero:\"))\n",
        "if numero >0:\n",
        "  print(\"El numero es positivo\")\n",
        "\n",
        "print(\"Fin del programa\")"
      ],
      "execution_count": 4,
      "outputs": [
        {
          "output_type": "stream",
          "text": [
            "Dame un numero:10\n",
            "El numero es positivo\n",
            "Fin del programa\n"
          ],
          "name": "stdout"
        }
      ]
    },
    {
      "cell_type": "code",
      "metadata": {
        "colab": {
          "base_uri": "https://localhost:8080/"
        },
        "id": "mysoCjZ6wbnj",
        "outputId": "513ac7dc-a1e7-4fb9-9339-64f108c1c694"
      },
      "source": [
        "numero=int(input(\"Digite un numero:\"))\n",
        "if numero >0:\n",
        "  print(\"El numero es positivo\")\n",
        "else:\n",
        "  print(\"El numero es negativo\")"
      ],
      "execution_count": 5,
      "outputs": [
        {
          "output_type": "stream",
          "text": [
            "Digite un numero:12\n",
            "El numero es positivo\n"
          ],
          "name": "stdout"
        }
      ]
    },
    {
      "cell_type": "code",
      "metadata": {
        "colab": {
          "base_uri": "https://localhost:8080/"
        },
        "id": "FcYESir4wh4F",
        "outputId": "15f9e02a-a689-475d-d029-da7e22915d4d"
      },
      "source": [
        "numero=int(input(\"Digite un numero:\"))\n",
        "if numero >0:\n",
        "  print(\"El numero es positivo\")\n",
        "elif numero==0:\n",
        "  print(\"El numero es cero\")\n",
        "else:\n",
        "  print(\"El numero es negativo\")"
      ],
      "execution_count": 6,
      "outputs": [
        {
          "output_type": "stream",
          "text": [
            "Digite un numero:-9\n",
            "El numero es negativo\n"
          ],
          "name": "stdout"
        }
      ]
    }
  ]
}