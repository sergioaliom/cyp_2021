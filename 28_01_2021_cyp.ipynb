{
  "nbformat": 4,
  "nbformat_minor": 0,
  "metadata": {
    "colab": {
      "name": "28/01/2021_cyp.ipynb",
      "provenance": [],
      "authorship_tag": "ABX9TyOxtd2IKW/WTCLlIXYrOEiI",
      "include_colab_link": true
    },
    "kernelspec": {
      "name": "python3",
      "display_name": "Python 3"
    }
  },
  "cells": [
    {
      "cell_type": "markdown",
      "metadata": {
        "id": "view-in-github",
        "colab_type": "text"
      },
      "source": [
        "<a href=\"https://colab.research.google.com/github/sergioaliom/cyp_2021/blob/main/28_01_2021_cyp.ipynb\" target=\"_parent\"><img src=\"https://colab.research.google.com/assets/colab-badge.svg\" alt=\"Open In Colab\"/></a>"
      ]
    },
    {
      "cell_type": "markdown",
      "metadata": {
        "id": "U1DfkWWvBifT"
      },
      "source": [
        "#Tuplas\r\n",
        "\r\n",
        "- Tipo de dato lineal, estructura de datos\r\n",
        "- No mutable\r\n",
        "- Puede contener de 0 a n elementos \r\n",
        "- Se declara con ()\r\n",
        "- No puedes agregar ni eliminar elementos.\r\n",
        "- Pueden ser anidadas.\r\n",
        "- Los argumentos a una funcion son enviadas como tuplas.\r\n"
      ]
    },
    {
      "cell_type": "code",
      "metadata": {
        "colab": {
          "base_uri": "https://localhost:8080/"
        },
        "id": "ZtvoRYFrCPFV",
        "outputId": "630c0630-49a5-40da-a465-9ae48e91a7cb"
      },
      "source": [
        "frutas = ('Sandia','Melon','Limon','Mango')\r\n",
        "print(frutas)\r\n",
        "print(frutas[1:3:1])\r\n",
        "print(frutas.count('Manzanas'))\r\n",
        "\r\n",
        "#Son inmutables\r\n",
        "\r\n",
        "#Pa que se usan?\r\n",
        "conexion = ('132.248.12.12',3306,'CyP_bd','usr_test','1234dios')\r\n",
        "print(f\"Usuario:{conexion[3]} y passwd: {conexion[4]}\")\r\n"
      ],
      "execution_count": 8,
      "outputs": [
        {
          "output_type": "stream",
          "text": [
            "('Sandia', 'Melon', 'Limon', 'Mango')\n",
            "('Melon', 'Limon')\n",
            "0\n",
            "Usuario:usr_test y passwd: 1234dios\n"
          ],
          "name": "stdout"
        }
      ]
    },
    {
      "cell_type": "markdown",
      "metadata": {
        "id": "wSPPvvTrFrqv"
      },
      "source": [
        "#Diccionarios \r\n",
        "- Estructura de datos semi lineal. \r\n",
        "- Formada por pares, llaves - valor.\r\n",
        "- Equivalentes al tipo ded dato JSON, de JavaScript.\r\n",
        "- Utiliza organizacion por funcion de dispercion.\r\n",
        "- Se declara con los elementos { y }\r\n",
        "- El selector usa valores de tipo string (llave)\r\n",
        "- No se puede seleccionar por offset [1].\r\n",
        "- Son mutables."
      ]
    },
    {
      "cell_type": "code",
      "metadata": {
        "colab": {
          "base_uri": "https://localhost:8080/"
        },
        "id": "GAtuWqsmG4n5",
        "outputId": "de744c59-3538-451e-dacb-ca2b2b5adcb4"
      },
      "source": [
        "alumno = { 'Nombre' : 'Juan Perez', 'edad': 18, 'Promedio' : 8.75, 'Aprobado' : True, 'Comida favorita' : 'Tostitos con chamoy' }\r\n",
        "print(alumno)\r\n",
        "print(alumno['Nombre'])\r\n",
        "print(alumno['edad'])\r\n"
      ],
      "execution_count": 13,
      "outputs": [
        {
          "output_type": "stream",
          "text": [
            "{'Nombre': 'Juan Perez', 'edad': 18, 'Promedio': 8.75, 'Aprobado': True, 'Comida favorita': 'Tostitos con chamoy'}\n",
            "Juan Perez\n",
            "18\n"
          ],
          "name": "stdout"
        }
      ]
    },
    {
      "cell_type": "code",
      "metadata": {
        "colab": {
          "base_uri": "https://localhost:8080/"
        },
        "id": "4M8yZoQUON2E",
        "outputId": "dc2b46ed-77ec-4060-946d-5b64e59f1366"
      },
      "source": [
        "alumno = { 'nombre' : 'Juan Pérez', 'edad' : 18, 'Matricula': 312193, 'calificaciones' : ['Mate: 8', 'ciencias: 9', 'ingles: 8'], 'aprovado' : True, 'direccion': {'Calle' : 'Rancho Seco', 'Colonia' : 'Impulsora'} }\r\n",
        "print(alumno)\r\n",
        "print(alumno['nombre'])\r\n",
        "print(alumno['calificaciones'])\r\n",
        "print(alumno['nombre'].upper())\r\n"
      ],
      "execution_count": 20,
      "outputs": [
        {
          "output_type": "stream",
          "text": [
            "{'nombre': 'Juan Pérez', 'edad': 18, 'Matricula': 312193, 'calificaciones': ['Mate: 8', 'ciencias: 9', 'ingles: 8'], 'aprovado': True, 'direccion': {'Calle': 'Rancho Seco', 'Colonia': 'Impulsora'}}\n",
            "Juan Pérez\n",
            "['Mate: 8', 'ciencias: 9', 'ingles: 8']\n",
            "JUAN PÉREZ\n"
          ],
          "name": "stdout"
        }
      ]
    },
    {
      "cell_type": "code",
      "metadata": {
        "colab": {
          "base_uri": "https://localhost:8080/"
        },
        "id": "qU0U8yBGSJ2S",
        "outputId": "e47213c1-120f-4850-b80a-809a1f22372c"
      },
      "source": [
        "alumno = {'nombre':'Juan Pérez','edad':18,'altura':1.71,'estatus':'Aprobado','numeros':[555645902, 55326372]}\r\n",
        "print(alumno)\r\n",
        "print( alumno ['numeros'])\r\n",
        "print(\"Numero del alumno:\",alumno['numeros'][1])"
      ],
      "execution_count": 19,
      "outputs": [
        {
          "output_type": "stream",
          "text": [
            "{'nombre': 'Juan Pérez', 'edad': 18, 'altura': 1.71, 'estatus': 'Aprobado', 'numeros': [555645902, 55326372]}\n",
            "[555645902, 55326372]\n",
            "Numero del alumno: 55326372\n"
          ],
          "name": "stdout"
        }
      ]
    },
    {
      "cell_type": "code",
      "metadata": {
        "colab": {
          "base_uri": "https://localhost:8080/"
        },
        "id": "WAlE6VmBVDee",
        "outputId": "27d057c7-9658-44e4-b0e4-2f0aea202dc6"
      },
      "source": [
        "funciones = dir(dict)\r\n",
        "for funcion in funciones:\r\n",
        "  print(funcion)\r\n"
      ],
      "execution_count": 26,
      "outputs": [
        {
          "output_type": "stream",
          "text": [
            "__class__\n",
            "__contains__\n",
            "__delattr__\n",
            "__delitem__\n",
            "__dir__\n",
            "__doc__\n",
            "__eq__\n",
            "__format__\n",
            "__ge__\n",
            "__getattribute__\n",
            "__getitem__\n",
            "__gt__\n",
            "__hash__\n",
            "__init__\n",
            "__init_subclass__\n",
            "__iter__\n",
            "__le__\n",
            "__len__\n",
            "__lt__\n",
            "__ne__\n",
            "__new__\n",
            "__reduce__\n",
            "__reduce_ex__\n",
            "__repr__\n",
            "__setattr__\n",
            "__setitem__\n",
            "__sizeof__\n",
            "__str__\n",
            "__subclasshook__\n",
            "clear\n",
            "copy\n",
            "fromkeys\n",
            "get\n",
            "items\n",
            "keys\n",
            "pop\n",
            "popitem\n",
            "setdefault\n",
            "update\n",
            "values\n"
          ],
          "name": "stdout"
        }
      ]
    },
    {
      "cell_type": "markdown",
      "metadata": {
        "id": "qaZ_xpUlVD1D"
      },
      "source": [
        "# Manipulacion de los pares llave valor.\r\n",
        "\r\n",
        "Para ello se emplean los metodos: \r\n",
        "- Keys() Te regresa una tupla con los strings llaves del diccionario.\r\n",
        "- Values() Te regresa solo los valores.\r\n",
        "- Items() Te regresa los pares.\r\n"
      ]
    },
    {
      "cell_type": "code",
      "metadata": {
        "colab": {
          "base_uri": "https://localhost:8080/"
        },
        "id": "xVi9MhVaWOoP",
        "outputId": "f472365a-507c-459b-ea3e-4a2c85a71d78"
      },
      "source": [
        "print(alumno)\r\n",
        "llaves = alumno.keys()\r\n",
        "print(llaves)\r\n",
        "for elem in llaves:\r\n",
        "  print(elem)\r\n",
        "  print(alumno[elem])\r\n",
        "\r\n",
        "  #Manipular los valores\r\n",
        "  valores = alumno.values()\r\n",
        "  print(valores)\r\n",
        "  for val in valores:\r\n",
        "    print(val)\r\n",
        "\r\n",
        "pares = alumno.items()\r\n",
        "print(pares)\r\n",
        "for par in pares: \r\n",
        "  print(par)\r\n",
        "\r\n"
      ],
      "execution_count": 35,
      "outputs": [
        {
          "output_type": "stream",
          "text": [
            "{'nombre': 'Juan Pérez', 'edad': 18, 'Matricula': 312193, 'calificaciones': ['Mate: 8', 'ciencias: 9', 'ingles: 8'], 'aprovado': True, 'direccion': {'Calle': 'Rancho Seco', 'Colonia': 'Impulsora'}}\n",
            "dict_keys(['nombre', 'edad', 'Matricula', 'calificaciones', 'aprovado', 'direccion'])\n",
            "nombre\n",
            "Juan Pérez\n",
            "dict_values(['Juan Pérez', 18, 312193, ['Mate: 8', 'ciencias: 9', 'ingles: 8'], True, {'Calle': 'Rancho Seco', 'Colonia': 'Impulsora'}])\n",
            "Juan Pérez\n",
            "18\n",
            "312193\n",
            "['Mate: 8', 'ciencias: 9', 'ingles: 8']\n",
            "True\n",
            "{'Calle': 'Rancho Seco', 'Colonia': 'Impulsora'}\n",
            "edad\n",
            "18\n",
            "dict_values(['Juan Pérez', 18, 312193, ['Mate: 8', 'ciencias: 9', 'ingles: 8'], True, {'Calle': 'Rancho Seco', 'Colonia': 'Impulsora'}])\n",
            "Juan Pérez\n",
            "18\n",
            "312193\n",
            "['Mate: 8', 'ciencias: 9', 'ingles: 8']\n",
            "True\n",
            "{'Calle': 'Rancho Seco', 'Colonia': 'Impulsora'}\n",
            "Matricula\n",
            "312193\n",
            "dict_values(['Juan Pérez', 18, 312193, ['Mate: 8', 'ciencias: 9', 'ingles: 8'], True, {'Calle': 'Rancho Seco', 'Colonia': 'Impulsora'}])\n",
            "Juan Pérez\n",
            "18\n",
            "312193\n",
            "['Mate: 8', 'ciencias: 9', 'ingles: 8']\n",
            "True\n",
            "{'Calle': 'Rancho Seco', 'Colonia': 'Impulsora'}\n",
            "calificaciones\n",
            "['Mate: 8', 'ciencias: 9', 'ingles: 8']\n",
            "dict_values(['Juan Pérez', 18, 312193, ['Mate: 8', 'ciencias: 9', 'ingles: 8'], True, {'Calle': 'Rancho Seco', 'Colonia': 'Impulsora'}])\n",
            "Juan Pérez\n",
            "18\n",
            "312193\n",
            "['Mate: 8', 'ciencias: 9', 'ingles: 8']\n",
            "True\n",
            "{'Calle': 'Rancho Seco', 'Colonia': 'Impulsora'}\n",
            "aprovado\n",
            "True\n",
            "dict_values(['Juan Pérez', 18, 312193, ['Mate: 8', 'ciencias: 9', 'ingles: 8'], True, {'Calle': 'Rancho Seco', 'Colonia': 'Impulsora'}])\n",
            "Juan Pérez\n",
            "18\n",
            "312193\n",
            "['Mate: 8', 'ciencias: 9', 'ingles: 8']\n",
            "True\n",
            "{'Calle': 'Rancho Seco', 'Colonia': 'Impulsora'}\n",
            "direccion\n",
            "{'Calle': 'Rancho Seco', 'Colonia': 'Impulsora'}\n",
            "dict_values(['Juan Pérez', 18, 312193, ['Mate: 8', 'ciencias: 9', 'ingles: 8'], True, {'Calle': 'Rancho Seco', 'Colonia': 'Impulsora'}])\n",
            "Juan Pérez\n",
            "18\n",
            "312193\n",
            "['Mate: 8', 'ciencias: 9', 'ingles: 8']\n",
            "True\n",
            "{'Calle': 'Rancho Seco', 'Colonia': 'Impulsora'}\n",
            "dict_items([('nombre', 'Juan Pérez'), ('edad', 18), ('Matricula', 312193), ('calificaciones', ['Mate: 8', 'ciencias: 9', 'ingles: 8']), ('aprovado', True), ('direccion', {'Calle': 'Rancho Seco', 'Colonia': 'Impulsora'})])\n",
            "('nombre', 'Juan Pérez')\n",
            "('edad', 18)\n",
            "('Matricula', 312193)\n",
            "('calificaciones', ['Mate: 8', 'ciencias: 9', 'ingles: 8'])\n",
            "('aprovado', True)\n",
            "('direccion', {'Calle': 'Rancho Seco', 'Colonia': 'Impulsora'})\n"
          ],
          "name": "stdout"
        }
      ]
    },
    {
      "cell_type": "code",
      "metadata": {
        "colab": {
          "base_uri": "https://localhost:8080/"
        },
        "id": "Dw1PdUVFWUCk",
        "outputId": "5f8a5f26-470f-4379-f487-c54b68dcb590"
      },
      "source": [
        "print(help(dict.keys))"
      ],
      "execution_count": 27,
      "outputs": [
        {
          "output_type": "stream",
          "text": [
            "Help on method_descriptor:\n",
            "\n",
            "keys(...)\n",
            "    D.keys() -> a set-like object providing a view on D's keys\n",
            "\n",
            "None\n"
          ],
          "name": "stdout"
        }
      ]
    }
  ]
}