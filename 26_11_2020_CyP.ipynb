{
  "nbformat": 4,
  "nbformat_minor": 0,
  "metadata": {
    "colab": {
      "name": "26/11/2020_CyP.ipynb",
      "provenance": [],
      "authorship_tag": "ABX9TyN+PuUjNATErkFlDJs4CzO/",
      "include_colab_link": true
    },
    "kernelspec": {
      "name": "python3",
      "display_name": "Python 3"
    }
  },
  "cells": [
    {
      "cell_type": "markdown",
      "metadata": {
        "id": "view-in-github",
        "colab_type": "text"
      },
      "source": [
        "<a href=\"https://colab.research.google.com/github/sergioaliom/cyp_2021/blob/main/26_11_2020_CyP.ipynb\" target=\"_parent\"><img src=\"https://colab.research.google.com/assets/colab-badge.svg\" alt=\"Open In Colab\"/></a>"
      ]
    },
    {
      "cell_type": "code",
      "metadata": {
        "colab": {
          "base_uri": "https://localhost:8080/"
        },
        "id": "7Aqvoq5kjdKT",
        "outputId": "95c6b36b-05b7-4bc4-8028-f791fcb40123"
      },
      "source": [
        "if(True):\n",
        "   print(\"La condición se cumple\")\n",
        "\n",
        "print(\"Se termina el programa\")"
      ],
      "execution_count": 5,
      "outputs": [
        {
          "output_type": "stream",
          "text": [
            "La condición se cumple\n",
            "Se termina el programa\n"
          ],
          "name": "stdout"
        }
      ]
    },
    {
      "cell_type": "code",
      "metadata": {
        "id": "5nkdbv9nl9Oc"
      },
      "source": [
        "if(5>7):\n",
        "  print(\"La condición se cumple\")\n",
        "\n",
        "print(\"No se cumple\")"
      ],
      "execution_count": null,
      "outputs": []
    },
    {
      "cell_type": "code",
      "metadata": {
        "colab": {
          "base_uri": "https://localhost:8080/"
        },
        "id": "3Sdz4dS6miKz",
        "outputId": "b567a040-67d6-4502-e70d-58c9b52834c2"
      },
      "source": [
        "if(2>3):\n",
        "  print(\"Se cumple\")\n",
        "  \n",
        "print(\"No se cumple\")"
      ],
      "execution_count": 13,
      "outputs": [
        {
          "output_type": "stream",
          "text": [
            "No se cumple\n"
          ],
          "name": "stdout"
        }
      ]
    },
    {
      "cell_type": "code",
      "metadata": {
        "colab": {
          "base_uri": "https://localhost:8080/"
        },
        "id": "GijTV3V0nf6I",
        "outputId": "0dcd6685-7edd-4b2d-979e-0281fe41b7b1"
      },
      "source": [
        "#Ejercicio2.1\n",
        "\n",
        "CAL = float(input(\"Dame tu calificación:\"))\n",
        "\n",
        "if(CAL>8):\n",
        "  print(\"Aprobaste\")\n",
        "  \n",
        "else:\n",
        "  print(\"No aprobaste\")\n"
      ],
      "execution_count": 41,
      "outputs": [
        {
          "output_type": "stream",
          "text": [
            "Dame tu calificación:5\n",
            "No aprobaste\n"
          ],
          "name": "stdout"
        }
      ]
    },
    {
      "cell_type": "code",
      "metadata": {
        "colab": {
          "base_uri": "https://localhost:8080/"
        },
        "id": "ybN36j10qpj9",
        "outputId": "90516d88-e782-41e8-807b-10618de40b9f"
      },
      "source": [
        "sue = float(input(\"Dame tu sueldo:\"))\n",
        "\n",
        "\n",
        "\n",
        "if(sue<1000):\n",
        "\n",
        "  nuevosueldo= sue+1000*.15\n",
        "\n",
        "  print(\"Tu nuevo sueldo es:\", nuevosueldo)\n",
        "\n",
        "else:\n",
        "  print(\"Ganas mas de 1000, no seas gandalla\")"
      ],
      "execution_count": 81,
      "outputs": [
        {
          "output_type": "stream",
          "text": [
            "Dame tu sueldo:999.99\n",
            "Tu nuevo sueldo es: 1149.99\n"
          ],
          "name": "stdout"
        }
      ]
    }
  ]
}